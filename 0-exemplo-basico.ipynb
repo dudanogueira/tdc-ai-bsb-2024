{
 "cells": [
  {
   "cell_type": "code",
   "execution_count": null,
   "metadata": {},
   "outputs": [],
   "source": [
    "%pip install -U weaviate-client"
   ]
  },
  {
   "cell_type": "code",
   "execution_count": null,
   "metadata": {},
   "outputs": [],
   "source": [
    "import os\n",
    "import weaviate\n",
    "from weaviate import classes as wvc\n",
    "\n",
    "# aqui vamos usar a versão embedded, para testes/desenvolvimento, que roda direto do cliente\n",
    "# o recomendado para produção é docker ou kubernetes\n",
    "client = weaviate.connect_to_embedded(\n",
    "    version=\"1.26.7\",\n",
    "    headers={\n",
    "        \"X-Cohere-Api-Key\": os.environ.get(\"COHERE_APIKEY\")\n",
    "    }\n",
    ")\n",
    "# vamos mostrar a versão do cliente e do servidor\n",
    "print(weaviate.__version__, client.get_meta().get(\"version\"))"
   ]
  },
  {
   "cell_type": "code",
   "execution_count": 2,
   "metadata": {},
   "outputs": [
    {
     "name": "stderr",
     "output_type": "stream",
     "text": [
      "{\"build_git_commit\":\"fdb81e790\",\"build_go_version\":\"go1.23.2\",\"build_image_tag\":\"localhost\",\"build_wv_version\":\"1.26.7\",\"level\":\"warning\",\"msg\":\"prop len tracker file /Users/dudanogueira/.local/share/weaviate/animais/1CJSI99dKNtr/proplengths does not exist, creating new tracker\",\"time\":\"2024-10-21T10:02:50-03:00\"}\n",
      "{\"action\":\"hnsw_prefill_cache_async\",\"build_git_commit\":\"fdb81e790\",\"build_go_version\":\"go1.23.2\",\"build_image_tag\":\"localhost\",\"build_wv_version\":\"1.26.7\",\"level\":\"info\",\"msg\":\"not waiting for vector cache prefill, running in background\",\"time\":\"2024-10-21T10:02:50-03:00\",\"wait_for_cache_prefill\":false}\n",
      "{\"build_git_commit\":\"fdb81e790\",\"build_go_version\":\"go1.23.2\",\"build_image_tag\":\"localhost\",\"build_wv_version\":\"1.26.7\",\"level\":\"info\",\"msg\":\"Created shard animais_1CJSI99dKNtr in 1.674833ms\",\"time\":\"2024-10-21T10:02:50-03:00\"}\n",
      "{\"action\":\"hnsw_vector_cache_prefill\",\"build_git_commit\":\"fdb81e790\",\"build_go_version\":\"go1.23.2\",\"build_image_tag\":\"localhost\",\"build_wv_version\":\"1.26.7\",\"count\":1000,\"index_id\":\"main\",\"level\":\"info\",\"limit\":1000000000000,\"msg\":\"prefilled vector cache\",\"time\":\"2024-10-21T10:02:50-03:00\",\"took\":30125}\n"
     ]
    },
    {
     "data": {
      "text/plain": [
       "BatchObjectReturn(_all_responses=[UUID('6baee136-4e5b-446c-a431-d5ea343c1054'), UUID('e97d6e8f-7756-430d-a416-2bc3f1d50a46'), UUID('8def24bc-34db-4677-9fcc-4bced5a2bbdd'), UUID('d1418c33-12f6-46c9-b222-ef682dd8f183')], elapsed_seconds=0.38548803329467773, errors={}, uuids={0: UUID('6baee136-4e5b-446c-a431-d5ea343c1054'), 1: UUID('e97d6e8f-7756-430d-a416-2bc3f1d50a46'), 2: UUID('8def24bc-34db-4677-9fcc-4bced5a2bbdd'), 3: UUID('d1418c33-12f6-46c9-b222-ef682dd8f183')}, has_errors=False)"
      ]
     },
     "execution_count": 2,
     "metadata": {},
     "output_type": "execute_result"
    }
   ],
   "source": [
    "# vamos garantir que não temos essa coleção\n",
    "client.collections.delete(\"Animais\")\n",
    "# e criar uma usando os modulos de vetorizador e gerador do cohere\n",
    "collection = client.collections.create(\n",
    "    \"Animais\",\n",
    "    vectorizer_config=wvc.config.Configure.Vectorizer.text2vec_cohere(),\n",
    "    generative_config=wvc.config.Configure.Generative.cohere()\n",
    ")\n",
    "# agora vamos ingerir alguns dados.\n",
    "# se precisar ingerir muitos dados, \n",
    "# use o batch ao invés do insert_many\n",
    "collection.data.insert_many([\n",
    "    {\"text\": \"Leão é o rei da floresta\"},\n",
    "    {\"text\": \"Gatos são fofos, mas estranhos\"},\n",
    "    {\"text\": \"A girafa, calada, lá de cima vê tudo.\"},\n",
    "    {\"text\": \"Cachorros são fofos\"},\n",
    "])"
   ]
  },
  {
   "cell_type": "code",
   "execution_count": 3,
   "metadata": {},
   "outputs": [
    {
     "data": {
      "text/plain": [
       "AggregateReturn(properties={}, total_count=4)"
      ]
     },
     "execution_count": 3,
     "metadata": {},
     "output_type": "execute_result"
    }
   ],
   "source": [
    "# a qualquer momento você pode \"pegar\" uma coleção\n",
    "collection = client.collections.get(\"Animais\")\n",
    "collection.aggregate.over_all()"
   ]
  },
  {
   "cell_type": "code",
   "execution_count": 4,
   "metadata": {},
   "outputs": [
    {
     "name": "stdout",
     "output_type": "stream",
     "text": [
      "Query 家養動物\n",
      "\n",
      "### distância 0.49532848596572876\n",
      "{'text': 'Cachorros são fofos'}\n",
      "\n",
      "### distância 0.5232204794883728\n",
      "{'text': 'Gatos são fofos, mas estranhos'}\n",
      "\n",
      "### distância 0.5345996618270874\n",
      "{'text': 'A girafa, calada, lá de cima vê tudo.'}\n",
      "\n",
      "### distância 0.539834201335907\n",
      "{'text': 'Leão é o rei da floresta'}\n"
     ]
    }
   ],
   "source": [
    "query = \"家養動物\"\n",
    "#query = \"animais domésticos\"\n",
    "#query = \"domestic animals\"\n",
    "print(\"Query\", query)\n",
    "for obj in collection.query.near_text(\n",
    "    query,\n",
    "    return_metadata=wvc.query.MetadataQuery(distance=True)\n",
    ").objects:\n",
    "    print(f\"\\n### distância {obj.metadata.distance}\")\n",
    "    print(obj.properties)"
   ]
  },
  {
   "cell_type": "code",
   "execution_count": 5,
   "metadata": {},
   "outputs": [
    {
     "name": "stdout",
     "output_type": "stream",
     "text": [
      "\n",
      " ### score: 0.8646168112754822\n",
      "explain score: \n",
      "Hybrid (Result Set keyword,bm25) Document 8def24bc-34db-4677-9fcc-4bced5a2bbdd: original score 0.461453, normalized score: 0.3 - \n",
      "Hybrid (Result Set vector,hybridVector) Document 8def24bc-34db-4677-9fcc-4bced5a2bbdd: original score 0.53033376, normalized score: 0.5646168\n",
      "{'text': 'A girafa, calada, lá de cima vê tudo.'}\n",
      "\n",
      " ### score: 0.699999988079071\n",
      "explain score: \n",
      "Hybrid (Result Set vector,hybridVector) Document 6baee136-4e5b-446c-a431-d5ea343c1054: original score 0.5343678, normalized score: 0.7\n",
      "{'text': 'Leão é o rei da floresta'}\n"
     ]
    }
   ],
   "source": [
    "# O hybrid search vai \"fundir\" a distância dos vetores\n",
    "# junto do score da busca bm25. Agora não temos mais distância, e sim score\n",
    "# que você pode ver explicado no explain_score\n",
    "\n",
    "# adicionamos também o auto_limit, que limita os objetos por grupos de proximidade. \n",
    "# com isso exibiremos somente o grupo 1. \n",
    "# Quando há um salto maior no score, se agrupa no grupo 2, etc.\n",
    "for obj in collection.query.hybrid(\n",
    "    \"animais selvagens de safari africano para turista\",\n",
    "    return_metadata=wvc.query.MetadataQuery(score=True, explain_score=True),\n",
    "    auto_limit=1\n",
    ").objects:\n",
    "    print(f\"\\n ### score: {obj.metadata.score}\")\n",
    "    print(f\"explain score: {obj.metadata.explain_score}\")\n",
    "    print(obj.properties)"
   ]
  },
  {
   "cell_type": "code",
   "execution_count": 6,
   "metadata": {},
   "outputs": [
    {
     "name": "stdout",
     "output_type": "stream",
     "text": [
      "\n",
      " ### score: 0.8646168112754822\n",
      "explain score: \n",
      "Hybrid (Result Set keyword,bm25) Document 8def24bc-34db-4677-9fcc-4bced5a2bbdd: original score 0.461453, normalized score: 0.3 - \n",
      "Hybrid (Result Set vector,hybridVector) Document 8def24bc-34db-4677-9fcc-4bced5a2bbdd: original score 0.53033376, normalized score: 0.5646168\n",
      "{'text': 'A girafa, calada, lá de cima vê tudo.'}\n",
      "Texto gerado: Por que a girafa é a melhor espiã da savana? Porque calada, lá de cima, ela vê tudo!\n",
      "\n",
      " ### score: 0.699999988079071\n",
      "explain score: \n",
      "Hybrid (Result Set vector,hybridVector) Document 6baee136-4e5b-446c-a431-d5ea343c1054: original score 0.5343678, normalized score: 0.7\n",
      "{'text': 'Leão é o rei da floresta'}\n",
      "Texto gerado: Por que o leão é considerado o rei da floresta? Porque ele é o único que consegue rugir sem precisar de um microfone!\n"
     ]
    }
   ],
   "source": [
    "# agora podemos fazer ações para cada objeto (single_prompt)\n",
    "query = collection.generate.hybrid(\n",
    "    \"animais selvagens de safari africano para turista\",\n",
    "    return_metadata=wvc.query.MetadataQuery(score=True, explain_score=True),\n",
    "    auto_limit=1,\n",
    "    single_prompt=\"Gere uma piada sobre: {text}\",\n",
    ")\n",
    "for obj in query.objects:\n",
    "    print(f\"\\n ### score: {obj.metadata.score}\")\n",
    "    print(f\"explain score: {obj.metadata.explain_score}\")\n",
    "    print(obj.properties)\n",
    "    print(f\"Texto gerado: {obj.generated}\")"
   ]
  },
  {
   "cell_type": "code",
   "execution_count": 9,
   "metadata": {},
   "outputs": [
    {
     "name": "stdout",
     "output_type": "stream",
     "text": [
      "\n",
      " ### score: 0.8646168112754822\n",
      "explain score: \n",
      "Hybrid (Result Set keyword,bm25) Document 8def24bc-34db-4677-9fcc-4bced5a2bbdd: original score 0.461453, normalized score: 0.3 - \n",
      "Hybrid (Result Set vector,hybridVector) Document 8def24bc-34db-4677-9fcc-4bced5a2bbdd: original score 0.53033376, normalized score: 0.5646168\n",
      "{'text': 'A girafa, calada, lá de cima vê tudo.'}\n",
      "Texto gerado: Por que a girafa é a melhor espiã da savana? Porque calada, lá de cima, ela vê tudo!\n",
      "\n",
      " ### score: 0.699999988079071\n",
      "explain score: \n",
      "Hybrid (Result Set vector,hybridVector) Document 6baee136-4e5b-446c-a431-d5ea343c1054: original score 0.5343678, normalized score: 0.7\n",
      "{'text': 'Leão é o rei da floresta'}\n",
      "Texto gerado: Por que o leão é considerado o rei da floresta? Porque ele é o único que consegue rugir sem precisar de um microfone!\n",
      "\n",
      "\n",
      "Conteúdo gerado em conjunto: Por que a inteligência artificial não gosta de piadas sobre animais? Porque ela prefere piadas mais \"tecnológicas\", como: \"A girafa, calada, lá de cima vê tudo, mas a inteligência artificial vê ainda mais com seus algoritmos avançados!\" E o leão, como rei da floresta, certamente aprovaria essa piada!\n"
     ]
    }
   ],
   "source": [
    "# E também ações para o grupo de objetos encontrados (grouped_task)\n",
    "# agora podemos fazer ações para cada objeto (singleTask)\n",
    "query = collection.generate.hybrid(\n",
    "    \"animais selvagens de safari africano para turista\",\n",
    "    return_metadata=wvc.query.MetadataQuery(score=True, explain_score=True),\n",
    "    auto_limit=1,\n",
    "    single_prompt=\"Gere uma piada sobre: {text}\",\n",
    "    grouped_task=\"Gere uma piada sobre os textos fornecidos, utilize algo sobre inteligência artificial\",\n",
    ")\n",
    "for obj in query.objects:\n",
    "    print(f\"\\n ### score: {obj.metadata.score}\")\n",
    "    print(f\"explain score: {obj.metadata.explain_score}\")\n",
    "    print(obj.properties)\n",
    "    print(f\"Texto gerado: {obj.generated}\")\n",
    "\n",
    "print(f\"\\n\\nConteúdo gerado em conjunto: {query.generated}\")"
   ]
  },
  {
   "cell_type": "code",
   "execution_count": 10,
   "metadata": {},
   "outputs": [
    {
     "name": "stderr",
     "output_type": "stream",
     "text": [
      "{\"action\":\"restapi_management\",\"build_git_commit\":\"fdb81e790\",\"build_go_version\":\"go1.23.2\",\"build_image_tag\":\"localhost\",\"build_wv_version\":\"1.26.7\",\"docker_image_tag\":\"localhost\",\"level\":\"info\",\"msg\":\"Shutting down... \",\"time\":\"2024-10-21T10:06:12-03:00\"}\n",
      "{\"action\":\"restapi_management\",\"build_git_commit\":\"fdb81e790\",\"build_go_version\":\"go1.23.2\",\"build_image_tag\":\"localhost\",\"build_wv_version\":\"1.26.7\",\"docker_image_tag\":\"localhost\",\"level\":\"info\",\"msg\":\"Stopped serving weaviate at http://127.0.0.1:8079\",\"time\":\"2024-10-21T10:06:12-03:00\"}\n",
      "{\"action\":\"telemetry_push\",\"build_git_commit\":\"fdb81e790\",\"build_go_version\":\"go1.23.2\",\"build_image_tag\":\"localhost\",\"build_wv_version\":\"1.26.7\",\"level\":\"info\",\"msg\":\"telemetry terminated\",\"payload\":\"\\u0026{MachineID:439c7d8b-afe6-4776-9ee9-047de5c0f9f6 Type:TERMINATE Version:1.26.7 NumObjects:14 OS:darwin Arch:arm64 UsedModules:[generative-cohere text2vec-cohere]}\",\"time\":\"2024-10-21T10:06:13-03:00\"}\n",
      "{\"build_git_commit\":\"fdb81e790\",\"build_go_version\":\"go1.23.2\",\"build_image_tag\":\"localhost\",\"build_wv_version\":\"1.26.7\",\"level\":\"info\",\"msg\":\"closing raft FSM store ...\",\"time\":\"2024-10-21T10:06:13-03:00\"}\n",
      "{\"build_git_commit\":\"fdb81e790\",\"build_go_version\":\"go1.23.2\",\"build_image_tag\":\"localhost\",\"build_wv_version\":\"1.26.7\",\"level\":\"info\",\"msg\":\"shutting down raft sub-system ...\",\"time\":\"2024-10-21T10:06:13-03:00\"}\n",
      "{\"build_git_commit\":\"fdb81e790\",\"build_go_version\":\"go1.23.2\",\"build_image_tag\":\"localhost\",\"build_wv_version\":\"1.26.7\",\"level\":\"info\",\"msg\":\"transferring leadership to another server\",\"time\":\"2024-10-21T10:06:13-03:00\"}\n",
      "{\"build_git_commit\":\"fdb81e790\",\"build_go_version\":\"go1.23.2\",\"build_image_tag\":\"localhost\",\"build_wv_version\":\"1.26.7\",\"error\":\"cannot find peer\",\"level\":\"error\",\"msg\":\"transferring leadership\",\"time\":\"2024-10-21T10:06:13-03:00\"}\n",
      "{\"build_git_commit\":\"fdb81e790\",\"build_go_version\":\"go1.23.2\",\"build_image_tag\":\"localhost\",\"build_wv_version\":\"1.26.7\",\"level\":\"info\",\"msg\":\"closing raft-net ...\",\"time\":\"2024-10-21T10:06:13-03:00\"}\n",
      "{\"build_git_commit\":\"fdb81e790\",\"build_go_version\":\"go1.23.2\",\"build_image_tag\":\"localhost\",\"build_wv_version\":\"1.26.7\",\"level\":\"info\",\"msg\":\"closing log store ...\",\"time\":\"2024-10-21T10:06:13-03:00\"}\n",
      "{\"build_git_commit\":\"fdb81e790\",\"build_go_version\":\"go1.23.2\",\"build_image_tag\":\"localhost\",\"build_wv_version\":\"1.26.7\",\"level\":\"info\",\"msg\":\"closing data store ...\",\"time\":\"2024-10-21T10:06:13-03:00\"}\n",
      "{\"build_git_commit\":\"fdb81e790\",\"build_go_version\":\"go1.23.2\",\"build_image_tag\":\"localhost\",\"build_wv_version\":\"1.26.7\",\"level\":\"info\",\"msg\":\"closing loaded database ...\",\"time\":\"2024-10-21T10:06:13-03:00\"}\n",
      "{\"build_git_commit\":\"fdb81e790\",\"build_go_version\":\"go1.23.2\",\"build_image_tag\":\"localhost\",\"build_wv_version\":\"1.26.7\",\"level\":\"info\",\"msg\":\"closing raft-rpc client ...\",\"time\":\"2024-10-21T10:06:13-03:00\"}\n",
      "{\"build_git_commit\":\"fdb81e790\",\"build_go_version\":\"go1.23.2\",\"build_image_tag\":\"localhost\",\"build_wv_version\":\"1.26.7\",\"level\":\"info\",\"msg\":\"closing raft-rpc server ...\",\"time\":\"2024-10-21T10:06:13-03:00\"}\n"
     ]
    }
   ],
   "source": [
    "# Pronto! Agora vamos fechar o cliente para desligar o servidor que está rodando\n",
    "client.close()"
   ]
  }
 ],
 "metadata": {
  "kernelspec": {
   "display_name": ".venv",
   "language": "python",
   "name": "python3"
  },
  "language_info": {
   "codemirror_mode": {
    "name": "ipython",
    "version": 3
   },
   "file_extension": ".py",
   "mimetype": "text/x-python",
   "name": "python",
   "nbconvert_exporter": "python",
   "pygments_lexer": "ipython3",
   "version": "3.12.5"
  }
 },
 "nbformat": 4,
 "nbformat_minor": 2
}
