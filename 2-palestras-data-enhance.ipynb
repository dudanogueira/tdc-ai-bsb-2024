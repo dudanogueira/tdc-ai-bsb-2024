{
 "cells": [
  {
   "cell_type": "code",
   "execution_count": 1,
   "metadata": {},
   "outputs": [
    {
     "name": "stderr",
     "output_type": "stream",
     "text": [
      "{\"action\":\"startup\",\"build_git_commit\":\"fdb81e790\",\"build_go_version\":\"go1.23.2\",\"build_image_tag\":\"localhost\",\"build_wv_version\":\"1.26.7\",\"default_vectorizer_module\":\"none\",\"level\":\"info\",\"msg\":\"the default vectorizer modules is set to \\\"none\\\", as a result all new schema classes without an explicit vectorizer setting, will use this vectorizer\",\"time\":\"2024-10-21T10:19:06-03:00\"}\n",
      "{\"action\":\"startup\",\"auto_schema_enabled\":true,\"build_git_commit\":\"fdb81e790\",\"build_go_version\":\"go1.23.2\",\"build_image_tag\":\"localhost\",\"build_wv_version\":\"1.26.7\",\"level\":\"info\",\"msg\":\"auto schema enabled setting is set to \\\"true\\\"\",\"time\":\"2024-10-21T10:19:06-03:00\"}\n",
      "{\"build_git_commit\":\"fdb81e790\",\"build_go_version\":\"go1.23.2\",\"build_image_tag\":\"localhost\",\"build_wv_version\":\"1.26.7\",\"level\":\"info\",\"msg\":\"No resource limits set, weaviate will use all available memory and CPU. To limit resources, set LIMIT_RESOURCES=true\",\"time\":\"2024-10-21T10:19:06-03:00\"}\n",
      "{\"build_git_commit\":\"fdb81e790\",\"build_go_version\":\"go1.23.2\",\"build_image_tag\":\"localhost\",\"build_wv_version\":\"1.26.7\",\"level\":\"info\",\"msg\":\"module offload-s3 is enabled\",\"time\":\"2024-10-21T10:19:06-03:00\"}\n",
      "{\"build_git_commit\":\"fdb81e790\",\"build_go_version\":\"go1.23.2\",\"build_image_tag\":\"localhost\",\"build_wv_version\":\"1.26.7\",\"level\":\"warning\",\"msg\":\"Multiple vector spaces are present, GraphQL Explore and REST API list objects endpoint module include params has been disabled as a result.\",\"time\":\"2024-10-21T10:19:06-03:00\"}\n",
      "{\"build_git_commit\":\"fdb81e790\",\"build_go_version\":\"go1.23.2\",\"build_image_tag\":\"localhost\",\"build_wv_version\":\"1.26.7\",\"level\":\"info\",\"msg\":\"open cluster service\",\"servers\":{\"Embedded_at_8079\":65429},\"time\":\"2024-10-21T10:19:06-03:00\"}\n",
      "{\"address\":\"192.168.28.99:65430\",\"build_git_commit\":\"fdb81e790\",\"build_go_version\":\"go1.23.2\",\"build_image_tag\":\"localhost\",\"build_wv_version\":\"1.26.7\",\"level\":\"info\",\"msg\":\"starting cloud rpc server ...\",\"time\":\"2024-10-21T10:19:06-03:00\"}\n",
      "{\"build_git_commit\":\"fdb81e790\",\"build_go_version\":\"go1.23.2\",\"build_image_tag\":\"localhost\",\"build_wv_version\":\"1.26.7\",\"level\":\"info\",\"msg\":\"starting raft sub-system ...\",\"time\":\"2024-10-21T10:19:06-03:00\"}\n",
      "{\"address\":\"192.168.28.99:65429\",\"build_git_commit\":\"fdb81e790\",\"build_go_version\":\"go1.23.2\",\"build_image_tag\":\"localhost\",\"build_wv_version\":\"1.26.7\",\"level\":\"info\",\"msg\":\"tcp transport\",\"tcpMaxPool\":3,\"tcpTimeout\":10000000000,\"time\":\"2024-10-21T10:19:07-03:00\"}\n",
      "{\"build_git_commit\":\"fdb81e790\",\"build_go_version\":\"go1.23.2\",\"build_image_tag\":\"localhost\",\"build_wv_version\":\"1.26.7\",\"level\":\"info\",\"msg\":\"loading local db\",\"time\":\"2024-10-21T10:19:07-03:00\"}\n",
      "{\"build_git_commit\":\"fdb81e790\",\"build_go_version\":\"go1.23.2\",\"build_image_tag\":\"localhost\",\"build_wv_version\":\"1.26.7\",\"level\":\"info\",\"msg\":\"local DB successfully loaded\",\"time\":\"2024-10-21T10:19:07-03:00\"}\n",
      "{\"build_git_commit\":\"fdb81e790\",\"build_go_version\":\"go1.23.2\",\"build_image_tag\":\"localhost\",\"build_wv_version\":\"1.26.7\",\"level\":\"info\",\"msg\":\"schema manager loaded\",\"n\":0,\"time\":\"2024-10-21T10:19:07-03:00\"}\n",
      "{\"build_git_commit\":\"fdb81e790\",\"build_go_version\":\"go1.23.2\",\"build_image_tag\":\"localhost\",\"build_wv_version\":\"1.26.7\",\"level\":\"info\",\"metadata_only_voters\":false,\"msg\":\"construct a new raft node\",\"name\":\"Embedded_at_8079\",\"time\":\"2024-10-21T10:19:07-03:00\"}\n",
      "{\"action\":\"raft\",\"build_git_commit\":\"fdb81e790\",\"build_go_version\":\"go1.23.2\",\"build_image_tag\":\"localhost\",\"build_wv_version\":\"1.26.7\",\"index\":68,\"level\":\"info\",\"msg\":\"raft initial configuration\",\"servers\":\"[[{Suffrage:Voter ID:Embedded_at_8079 Address:192.168.28.99:64967}]]\",\"time\":\"2024-10-21T10:19:07-03:00\"}\n",
      "{\"build_git_commit\":\"fdb81e790\",\"build_go_version\":\"go1.23.2\",\"build_image_tag\":\"localhost\",\"build_wv_version\":\"1.26.7\",\"last_snapshot_index\":0,\"last_store_applied_index_on_start\":70,\"level\":\"info\",\"msg\":\"raft node constructed\",\"raft_applied_index\":0,\"raft_last_index\":70,\"time\":\"2024-10-21T10:19:07-03:00\"}\n",
      "{\"build_git_commit\":\"fdb81e790\",\"build_go_version\":\"go1.23.2\",\"build_image_tag\":\"localhost\",\"build_wv_version\":\"1.26.7\",\"hasState\":true,\"level\":\"info\",\"msg\":\"raft init\",\"time\":\"2024-10-21T10:19:07-03:00\"}\n",
      "{\"build_git_commit\":\"fdb81e790\",\"build_go_version\":\"go1.23.2\",\"build_image_tag\":\"localhost\",\"build_wv_version\":\"1.26.7\",\"level\":\"info\",\"msg\":\"attempting to join\",\"remoteNodes\":[\"192.168.28.99:65429\"],\"time\":\"2024-10-21T10:19:07-03:00\"}\n",
      "{\"action\":\"raft\",\"build_git_commit\":\"fdb81e790\",\"build_go_version\":\"go1.23.2\",\"build_image_tag\":\"localhost\",\"build_wv_version\":\"1.26.7\",\"follower\":{},\"leader-address\":\"\",\"leader-id\":\"\",\"level\":\"info\",\"msg\":\"raft entering follower state\",\"time\":\"2024-10-21T10:19:07-03:00\"}\n",
      "{\"build_git_commit\":\"fdb81e790\",\"build_go_version\":\"go1.23.2\",\"build_image_tag\":\"localhost\",\"build_wv_version\":\"1.26.7\",\"level\":\"info\",\"msg\":\"attempted to join and failed\",\"remoteNode\":\"192.168.28.99:65429\",\"status\":8,\"time\":\"2024-10-21T10:19:07-03:00\"}\n",
      "{\"build_git_commit\":\"fdb81e790\",\"build_go_version\":\"go1.23.2\",\"build_image_tag\":\"localhost\",\"build_wv_version\":\"1.26.7\",\"level\":\"info\",\"msg\":\"attempting to join\",\"remoteNodes\":[\"192.168.28.99:65429\"],\"time\":\"2024-10-21T10:19:08-03:00\"}\n",
      "{\"build_git_commit\":\"fdb81e790\",\"build_go_version\":\"go1.23.2\",\"build_image_tag\":\"localhost\",\"build_wv_version\":\"1.26.7\",\"level\":\"info\",\"msg\":\"attempted to join and failed\",\"remoteNode\":\"192.168.28.99:65429\",\"status\":8,\"time\":\"2024-10-21T10:19:08-03:00\"}\n",
      "{\"action\":\"raft\",\"build_git_commit\":\"fdb81e790\",\"build_go_version\":\"go1.23.2\",\"build_image_tag\":\"localhost\",\"build_wv_version\":\"1.26.7\",\"last-leader-addr\":\"\",\"last-leader-id\":\"\",\"level\":\"warning\",\"msg\":\"raft heartbeat timeout reached, starting election\",\"time\":\"2024-10-21T10:19:08-03:00\"}\n",
      "{\"action\":\"raft\",\"build_git_commit\":\"fdb81e790\",\"build_go_version\":\"go1.23.2\",\"build_image_tag\":\"localhost\",\"build_wv_version\":\"1.26.7\",\"level\":\"info\",\"msg\":\"raft entering candidate state\",\"node\":{},\"term\":24,\"time\":\"2024-10-21T10:19:08-03:00\"}\n",
      "{\"action\":\"raft\",\"build_git_commit\":\"fdb81e790\",\"build_go_version\":\"go1.23.2\",\"build_image_tag\":\"localhost\",\"build_wv_version\":\"1.26.7\",\"level\":\"info\",\"msg\":\"raft pre-vote successful, starting election\",\"refused\":0,\"tally\":1,\"term\":24,\"time\":\"2024-10-21T10:19:08-03:00\",\"votesNeeded\":1}\n",
      "{\"action\":\"raft\",\"build_git_commit\":\"fdb81e790\",\"build_go_version\":\"go1.23.2\",\"build_image_tag\":\"localhost\",\"build_wv_version\":\"1.26.7\",\"level\":\"info\",\"msg\":\"raft election won\",\"tally\":1,\"term\":24,\"time\":\"2024-10-21T10:19:08-03:00\"}\n",
      "{\"action\":\"raft\",\"build_git_commit\":\"fdb81e790\",\"build_go_version\":\"go1.23.2\",\"build_image_tag\":\"localhost\",\"build_wv_version\":\"1.26.7\",\"leader\":{},\"level\":\"info\",\"msg\":\"raft entering leader state\",\"time\":\"2024-10-21T10:19:08-03:00\"}\n",
      "{\"build_git_commit\":\"fdb81e790\",\"build_go_version\":\"go1.23.2\",\"build_image_tag\":\"localhost\",\"build_wv_version\":\"1.26.7\",\"level\":\"info\",\"msg\":\"Schema catching up: applying log entry: [7/70]\",\"time\":\"2024-10-21T10:19:08-03:00\"}\n",
      "{\"build_git_commit\":\"fdb81e790\",\"build_go_version\":\"go1.23.2\",\"build_image_tag\":\"localhost\",\"build_wv_version\":\"1.26.7\",\"level\":\"info\",\"msg\":\"Schema catching up: applying log entry: [8/70]\",\"time\":\"2024-10-21T10:19:08-03:00\"}\n",
      "{\"build_git_commit\":\"fdb81e790\",\"build_go_version\":\"go1.23.2\",\"build_image_tag\":\"localhost\",\"build_wv_version\":\"1.26.7\",\"level\":\"info\",\"msg\":\"Schema catching up: applying log entry: [9/70]\",\"time\":\"2024-10-21T10:19:08-03:00\"}\n",
      "{\"build_git_commit\":\"fdb81e790\",\"build_go_version\":\"go1.23.2\",\"build_image_tag\":\"localhost\",\"build_wv_version\":\"1.26.7\",\"level\":\"info\",\"msg\":\"Schema catching up: applying log entry: [16/70]\",\"time\":\"2024-10-21T10:19:08-03:00\"}\n",
      "{\"build_git_commit\":\"fdb81e790\",\"build_go_version\":\"go1.23.2\",\"build_image_tag\":\"localhost\",\"build_wv_version\":\"1.26.7\",\"level\":\"info\",\"msg\":\"Schema catching up: applying log entry: [17/70]\",\"time\":\"2024-10-21T10:19:08-03:00\"}\n",
      "{\"build_git_commit\":\"fdb81e790\",\"build_go_version\":\"go1.23.2\",\"build_image_tag\":\"localhost\",\"build_wv_version\":\"1.26.7\",\"level\":\"info\",\"msg\":\"Schema catching up: applying log entry: [18/70]\",\"time\":\"2024-10-21T10:19:08-03:00\"}\n",
      "{\"build_git_commit\":\"fdb81e790\",\"build_go_version\":\"go1.23.2\",\"build_image_tag\":\"localhost\",\"build_wv_version\":\"1.26.7\",\"level\":\"info\",\"msg\":\"Schema catching up: applying log entry: [21/70]\",\"time\":\"2024-10-21T10:19:08-03:00\"}\n",
      "{\"build_git_commit\":\"fdb81e790\",\"build_go_version\":\"go1.23.2\",\"build_image_tag\":\"localhost\",\"build_wv_version\":\"1.26.7\",\"level\":\"info\",\"msg\":\"Schema catching up: applying log entry: [22/70]\",\"time\":\"2024-10-21T10:19:08-03:00\"}\n",
      "{\"build_git_commit\":\"fdb81e790\",\"build_go_version\":\"go1.23.2\",\"build_image_tag\":\"localhost\",\"build_wv_version\":\"1.26.7\",\"level\":\"info\",\"msg\":\"Schema catching up: applying log entry: [23/70]\",\"time\":\"2024-10-21T10:19:08-03:00\"}\n",
      "{\"build_git_commit\":\"fdb81e790\",\"build_go_version\":\"go1.23.2\",\"build_image_tag\":\"localhost\",\"build_wv_version\":\"1.26.7\",\"level\":\"info\",\"msg\":\"Schema catching up: applying log entry: [24/70]\",\"time\":\"2024-10-21T10:19:08-03:00\"}\n",
      "{\"build_git_commit\":\"fdb81e790\",\"build_go_version\":\"go1.23.2\",\"build_image_tag\":\"localhost\",\"build_wv_version\":\"1.26.7\",\"level\":\"info\",\"msg\":\"Schema catching up: applying log entry: [25/70]\",\"time\":\"2024-10-21T10:19:08-03:00\"}\n",
      "{\"build_git_commit\":\"fdb81e790\",\"build_go_version\":\"go1.23.2\",\"build_image_tag\":\"localhost\",\"build_wv_version\":\"1.26.7\",\"level\":\"info\",\"msg\":\"Schema catching up: applying log entry: [28/70]\",\"time\":\"2024-10-21T10:19:08-03:00\"}\n",
      "{\"build_git_commit\":\"fdb81e790\",\"build_go_version\":\"go1.23.2\",\"build_image_tag\":\"localhost\",\"build_wv_version\":\"1.26.7\",\"level\":\"info\",\"msg\":\"Schema catching up: applying log entry: [31/70]\",\"time\":\"2024-10-21T10:19:08-03:00\"}\n",
      "{\"build_git_commit\":\"fdb81e790\",\"build_go_version\":\"go1.23.2\",\"build_image_tag\":\"localhost\",\"build_wv_version\":\"1.26.7\",\"level\":\"info\",\"msg\":\"Schema catching up: applying log entry: [32/70]\",\"time\":\"2024-10-21T10:19:08-03:00\"}\n",
      "{\"build_git_commit\":\"fdb81e790\",\"build_go_version\":\"go1.23.2\",\"build_image_tag\":\"localhost\",\"build_wv_version\":\"1.26.7\",\"level\":\"info\",\"msg\":\"Schema catching up: applying log entry: [33/70]\",\"time\":\"2024-10-21T10:19:08-03:00\"}\n",
      "{\"build_git_commit\":\"fdb81e790\",\"build_go_version\":\"go1.23.2\",\"build_image_tag\":\"localhost\",\"build_wv_version\":\"1.26.7\",\"level\":\"info\",\"msg\":\"Schema catching up: applying log entry: [36/70]\",\"time\":\"2024-10-21T10:19:08-03:00\"}\n",
      "{\"build_git_commit\":\"fdb81e790\",\"build_go_version\":\"go1.23.2\",\"build_image_tag\":\"localhost\",\"build_wv_version\":\"1.26.7\",\"level\":\"info\",\"msg\":\"Schema catching up: applying log entry: [37/70]\",\"time\":\"2024-10-21T10:19:08-03:00\"}\n",
      "{\"build_git_commit\":\"fdb81e790\",\"build_go_version\":\"go1.23.2\",\"build_image_tag\":\"localhost\",\"build_wv_version\":\"1.26.7\",\"level\":\"info\",\"msg\":\"Schema catching up: applying log entry: [38/70]\",\"time\":\"2024-10-21T10:19:08-03:00\"}\n",
      "{\"build_git_commit\":\"fdb81e790\",\"build_go_version\":\"go1.23.2\",\"build_image_tag\":\"localhost\",\"build_wv_version\":\"1.26.7\",\"level\":\"info\",\"msg\":\"Schema catching up: applying log entry: [41/70]\",\"time\":\"2024-10-21T10:19:08-03:00\"}\n",
      "{\"build_git_commit\":\"fdb81e790\",\"build_go_version\":\"go1.23.2\",\"build_image_tag\":\"localhost\",\"build_wv_version\":\"1.26.7\",\"level\":\"info\",\"msg\":\"Schema catching up: applying log entry: [42/70]\",\"time\":\"2024-10-21T10:19:08-03:00\"}\n",
      "{\"build_git_commit\":\"fdb81e790\",\"build_go_version\":\"go1.23.2\",\"build_image_tag\":\"localhost\",\"build_wv_version\":\"1.26.7\",\"level\":\"info\",\"msg\":\"Schema catching up: applying log entry: [43/70]\",\"time\":\"2024-10-21T10:19:08-03:00\"}\n",
      "{\"build_git_commit\":\"fdb81e790\",\"build_go_version\":\"go1.23.2\",\"build_image_tag\":\"localhost\",\"build_wv_version\":\"1.26.7\",\"level\":\"info\",\"msg\":\"Schema catching up: applying log entry: [49/70]\",\"time\":\"2024-10-21T10:19:08-03:00\"}\n",
      "{\"build_git_commit\":\"fdb81e790\",\"build_go_version\":\"go1.23.2\",\"build_image_tag\":\"localhost\",\"build_wv_version\":\"1.26.7\",\"level\":\"info\",\"msg\":\"Schema catching up: applying log entry: [50/70]\",\"time\":\"2024-10-21T10:19:08-03:00\"}\n",
      "{\"build_git_commit\":\"fdb81e790\",\"build_go_version\":\"go1.23.2\",\"build_image_tag\":\"localhost\",\"build_wv_version\":\"1.26.7\",\"level\":\"info\",\"msg\":\"Schema catching up: applying log entry: [51/70]\",\"time\":\"2024-10-21T10:19:08-03:00\"}\n",
      "{\"build_git_commit\":\"fdb81e790\",\"build_go_version\":\"go1.23.2\",\"build_image_tag\":\"localhost\",\"build_wv_version\":\"1.26.7\",\"level\":\"info\",\"msg\":\"Schema catching up: applying log entry: [54/70]\",\"time\":\"2024-10-21T10:19:08-03:00\"}\n",
      "{\"build_git_commit\":\"fdb81e790\",\"build_go_version\":\"go1.23.2\",\"build_image_tag\":\"localhost\",\"build_wv_version\":\"1.26.7\",\"level\":\"info\",\"msg\":\"Schema catching up: applying log entry: [59/70]\",\"time\":\"2024-10-21T10:19:08-03:00\"}\n",
      "{\"build_git_commit\":\"fdb81e790\",\"build_go_version\":\"go1.23.2\",\"build_image_tag\":\"localhost\",\"build_wv_version\":\"1.26.7\",\"level\":\"info\",\"msg\":\"Schema catching up: applying log entry: [64/70]\",\"time\":\"2024-10-21T10:19:08-03:00\"}\n",
      "{\"build_git_commit\":\"fdb81e790\",\"build_go_version\":\"go1.23.2\",\"build_image_tag\":\"localhost\",\"build_wv_version\":\"1.26.7\",\"level\":\"info\",\"msg\":\"Schema catching up: applying log entry: [65/70]\",\"time\":\"2024-10-21T10:19:08-03:00\"}\n",
      "{\"build_git_commit\":\"fdb81e790\",\"build_go_version\":\"go1.23.2\",\"build_image_tag\":\"localhost\",\"build_wv_version\":\"1.26.7\",\"level\":\"info\",\"msg\":\"Schema catching up: applying log entry: [66/70]\",\"time\":\"2024-10-21T10:19:08-03:00\"}\n",
      "{\"build_git_commit\":\"fdb81e790\",\"build_go_version\":\"go1.23.2\",\"build_image_tag\":\"localhost\",\"build_wv_version\":\"1.26.7\",\"level\":\"info\",\"msg\":\"Schema catching up: applying log entry: [69/70]\",\"time\":\"2024-10-21T10:19:08-03:00\"}\n",
      "{\"build_git_commit\":\"fdb81e790\",\"build_go_version\":\"go1.23.2\",\"build_image_tag\":\"localhost\",\"build_wv_version\":\"1.26.7\",\"level\":\"info\",\"msg\":\"Schema catching up: applying log entry: [70/70]\",\"time\":\"2024-10-21T10:19:08-03:00\"}\n",
      "{\"build_git_commit\":\"fdb81e790\",\"build_go_version\":\"go1.23.2\",\"build_image_tag\":\"localhost\",\"build_wv_version\":\"1.26.7\",\"last_store_log_applied_index\":70,\"level\":\"info\",\"log_index\":70,\"log_name\":\"LogCommand\",\"log_type\":0,\"msg\":\"reloading local DB as RAFT and local DB are now caught up\",\"time\":\"2024-10-21T10:19:08-03:00\"}\n",
      "{\"build_git_commit\":\"fdb81e790\",\"build_go_version\":\"go1.23.2\",\"build_image_tag\":\"localhost\",\"build_wv_version\":\"1.26.7\",\"level\":\"info\",\"msg\":\"reload local db: update schema ...\",\"time\":\"2024-10-21T10:19:08-03:00\"}\n",
      "{\"build_git_commit\":\"fdb81e790\",\"build_go_version\":\"go1.23.2\",\"build_image_tag\":\"localhost\",\"build_wv_version\":\"1.26.7\",\"index\":\"Animais\",\"level\":\"info\",\"msg\":\"reload local index\",\"time\":\"2024-10-21T10:19:08-03:00\"}\n",
      "{\"build_git_commit\":\"fdb81e790\",\"build_go_version\":\"go1.23.2\",\"build_image_tag\":\"localhost\",\"build_wv_version\":\"1.26.7\",\"index\":\"Palestras\",\"level\":\"info\",\"msg\":\"reload local index\",\"time\":\"2024-10-21T10:19:08-03:00\"}\n",
      "{\"build_git_commit\":\"fdb81e790\",\"build_go_version\":\"go1.23.2\",\"build_image_tag\":\"localhost\",\"build_wv_version\":\"1.26.7\",\"docker_image_tag\":\"localhost\",\"level\":\"info\",\"msg\":\"configured versions\",\"server_version\":\"1.26.7\",\"time\":\"2024-10-21T10:19:08-03:00\"}\n",
      "{\"action\":\"grpc_startup\",\"build_git_commit\":\"fdb81e790\",\"build_go_version\":\"go1.23.2\",\"build_image_tag\":\"localhost\",\"build_wv_version\":\"1.26.7\",\"level\":\"info\",\"msg\":\"grpc server listening at [::]:50050\",\"time\":\"2024-10-21T10:19:09-03:00\"}\n",
      "{\"address\":\"192.168.28.99:65429\",\"build_git_commit\":\"fdb81e790\",\"build_go_version\":\"go1.23.2\",\"build_image_tag\":\"localhost\",\"build_wv_version\":\"1.26.7\",\"level\":\"info\",\"msg\":\"current Leader\",\"time\":\"2024-10-21T10:19:09-03:00\"}\n",
      "{\"build_git_commit\":\"fdb81e790\",\"build_go_version\":\"go1.23.2\",\"build_image_tag\":\"localhost\",\"build_wv_version\":\"1.26.7\",\"level\":\"info\",\"msg\":\"attempting to join\",\"remoteNodes\":[\"192.168.28.99:65429\"],\"time\":\"2024-10-21T10:19:09-03:00\"}\n",
      "{\"action\":\"restapi_management\",\"build_git_commit\":\"fdb81e790\",\"build_go_version\":\"go1.23.2\",\"build_image_tag\":\"localhost\",\"build_wv_version\":\"1.26.7\",\"docker_image_tag\":\"localhost\",\"level\":\"info\",\"msg\":\"Serving weaviate at http://127.0.0.1:8079\",\"time\":\"2024-10-21T10:19:09-03:00\"}\n",
      "{\"action\":\"raft\",\"build_git_commit\":\"fdb81e790\",\"build_go_version\":\"go1.23.2\",\"build_image_tag\":\"localhost\",\"build_wv_version\":\"1.26.7\",\"command\":0,\"level\":\"info\",\"msg\":\"raft updating configuration\",\"server-addr\":\"192.168.28.99:65429\",\"server-id\":\"Embedded_at_8079\",\"servers\":\"[[{Suffrage:Voter ID:Embedded_at_8079 Address:192.168.28.99:65429}]]\",\"time\":\"2024-10-21T10:19:09-03:00\"}\n"
     ]
    },
    {
     "name": "stdout",
     "output_type": "stream",
     "text": [
      "4.9.0 1.26.7\n"
     ]
    },
    {
     "name": "stderr",
     "output_type": "stream",
     "text": [
      "{\"action\":\"telemetry_push\",\"build_git_commit\":\"fdb81e790\",\"build_go_version\":\"go1.23.2\",\"build_image_tag\":\"localhost\",\"build_wv_version\":\"1.26.7\",\"level\":\"info\",\"msg\":\"telemetry started\",\"payload\":\"\\u0026{MachineID:ccbe6fbd-4a23-43f5-aeb4-a35d6e5800fb Type:INIT Version:1.26.7 NumObjects:0 OS:darwin Arch:arm64 UsedModules:[generative-cohere text2vec-cohere]}\",\"time\":\"2024-10-21T10:19:09-03:00\"}\n",
      "{\"action\":\"hnsw_prefill_cache_async\",\"build_git_commit\":\"fdb81e790\",\"build_go_version\":\"go1.23.2\",\"build_image_tag\":\"localhost\",\"build_wv_version\":\"1.26.7\",\"level\":\"info\",\"msg\":\"not waiting for vector cache prefill, running in background\",\"time\":\"2024-10-21T10:19:09-03:00\",\"wait_for_cache_prefill\":false}\n",
      "{\"build_git_commit\":\"fdb81e790\",\"build_go_version\":\"go1.23.2\",\"build_image_tag\":\"localhost\",\"build_wv_version\":\"1.26.7\",\"level\":\"info\",\"msg\":\"Completed loading shard animais_1CJSI99dKNtr in 2.096792ms\",\"time\":\"2024-10-21T10:19:09-03:00\"}\n",
      "{\"action\":\"hnsw_vector_cache_prefill\",\"build_git_commit\":\"fdb81e790\",\"build_go_version\":\"go1.23.2\",\"build_image_tag\":\"localhost\",\"build_wv_version\":\"1.26.7\",\"count\":3000,\"index_id\":\"main\",\"level\":\"info\",\"limit\":1000000000000,\"msg\":\"prefilled vector cache\",\"time\":\"2024-10-21T10:19:09-03:00\",\"took\":115833}\n",
      "{\"action\":\"hnsw_prefill_cache_async\",\"build_git_commit\":\"fdb81e790\",\"build_go_version\":\"go1.23.2\",\"build_image_tag\":\"localhost\",\"build_wv_version\":\"1.26.7\",\"level\":\"info\",\"msg\":\"not waiting for vector cache prefill, running in background\",\"time\":\"2024-10-21T10:19:09-03:00\",\"wait_for_cache_prefill\":false}\n",
      "{\"build_git_commit\":\"fdb81e790\",\"build_go_version\":\"go1.23.2\",\"build_image_tag\":\"localhost\",\"build_wv_version\":\"1.26.7\",\"level\":\"info\",\"msg\":\"Completed loading shard palestras_4fpgJePvTcpZ in 2.69075ms\",\"time\":\"2024-10-21T10:19:09-03:00\"}\n",
      "{\"action\":\"hnsw_vector_cache_prefill\",\"build_git_commit\":\"fdb81e790\",\"build_go_version\":\"go1.23.2\",\"build_image_tag\":\"localhost\",\"build_wv_version\":\"1.26.7\",\"count\":3000,\"index_id\":\"main\",\"level\":\"info\",\"limit\":1000000000000,\"msg\":\"prefilled vector cache\",\"time\":\"2024-10-21T10:19:09-03:00\",\"took\":149084}\n"
     ]
    }
   ],
   "source": [
    "import os\n",
    "import weaviate\n",
    "from weaviate import classes as wvc\n",
    "\n",
    "# aqui vamos usar a versão embedded, para testes/desenvolvimento, que roda direto do cliente\n",
    "# o recomendado para produção é docker ou kubernetes\n",
    "client = weaviate.connect_to_embedded(\n",
    "    version=\"1.26.7\",\n",
    "    headers={\n",
    "        \"X-Cohere-Api-Key\": os.environ.get(\"COHERE_APIKEY\")\n",
    "    }\n",
    ")\n",
    "# vamos mostra a versão do cliente e do servidor\n",
    "print(weaviate.__version__, client.get_meta().get(\"version\"))"
   ]
  },
  {
   "cell_type": "code",
   "execution_count": 2,
   "metadata": {},
   "outputs": [
    {
     "name": "stdout",
     "output_type": "stream",
     "text": [
      "10\n"
     ]
    }
   ],
   "source": [
    "# vamos recuperar a nossa coleção sobre as palestras do exemplo 1\n",
    "collections = client.collections.get(\"Palestras\")\n",
    "# e inspecionar quantos objetos temos\n",
    "print(collections.aggregate.over_all().total_count)"
   ]
  },
  {
   "cell_type": "code",
   "execution_count": 3,
   "metadata": {},
   "outputs": [
    {
     "name": "stderr",
     "output_type": "stream",
     "text": [
      "/Users/dudanogueira/dev/weaviate/tdc-ai-bsb-2024/.venv/lib/python3.12/site-packages/pydantic/_internal/_generate_schema.py:312: PydanticDeprecatedSince20: `json_encoders` is deprecated. See https://docs.pydantic.dev/2.9/concepts/serialization/#custom-serializers for alternatives. Deprecated in Pydantic V2.0 to be removed in V3.0. See Pydantic V2 Migration Guide at https://errors.pydantic.dev/2.9/migration/\n",
      "  warnings.warn(\n"
     ]
    },
    {
     "name": "stdout",
     "output_type": "stream",
     "text": [
      "sagemaker.config INFO - Not applying SDK defaults from location: /Library/Application Support/sagemaker/config.yaml\n",
      "sagemaker.config INFO - Not applying SDK defaults from location: /Users/dudanogueira/Library/Application Support/sagemaker/config.yaml\n"
     ]
    },
    {
     "name": "stderr",
     "output_type": "stream",
     "text": [
      "/Users/dudanogueira/dev/weaviate/tdc-ai-bsb-2024/.venv/lib/python3.12/site-packages/pydantic/_internal/_config.py:291: PydanticDeprecatedSince20: Support for class-based `config` is deprecated, use ConfigDict instead. Deprecated in Pydantic V2.0 to be removed in V3.0. See Pydantic V2 Migration Guide at https://errors.pydantic.dev/2.9/migration/\n",
      "  warnings.warn(DEPRECATION_MESSAGE, DeprecationWarning)\n",
      "/Users/dudanogueira/dev/weaviate/tdc-ai-bsb-2024/.venv/lib/python3.12/site-packages/litellm/utils.py:125: DeprecationWarning: open_text is deprecated. Use files() instead. Refer to https://importlib-resources.readthedocs.io/en/latest/using.html#migrating-from-legacy for migration advice.\n",
      "  with resources.open_text(\"litellm.llms.tokenizers\", \"anthropic_tokenizer.json\") as f:\n"
     ]
    },
    {
     "data": {
      "text/plain": [
       "'O The Developer Conference, também conhecido como TDC, é um evento de tecnologia que reúne desenvolvedores, profissionais de TI e entusiastas para discutir tendências, inovações e melhores práticas na área de desenvolvimento de software. O evento geralmente inclui palestras, workshops, painéis de discussão e networking, abordando uma variedade de temas como programação, arquitetura de software, metodologias ágeis, inteligência artificial, entre outros. O TDC ocorre em várias cidades do Brasil e é uma oportunidade para os participantes aprenderem com especialistas, compartilharem experiências e se atualizarem sobre as novidades do setor.'"
      ]
     },
     "execution_count": 3,
     "metadata": {},
     "output_type": "execute_result"
    }
   ],
   "source": [
    "# vamos fazer um app basico de demo do dspy\n",
    "import dspy\n",
    "\n",
    "lm = dspy.LM('openai/gpt-4o-mini')\n",
    "dspy.configure(lm=lm)\n",
    "\n",
    "qa = dspy.Predict('question: str -> response: str')\n",
    "qa(question=\"O que é o The Developer Conference?\").response"
   ]
  },
  {
   "cell_type": "code",
   "execution_count": 4,
   "metadata": {},
   "outputs": [
    {
     "name": "stdout",
     "output_type": "stream",
     "text": [
      "\n",
      "\n",
      "\n",
      "\n",
      "\u001b[34m[2024-10-21T10:19:46.854830]\u001b[0m\n",
      "\n",
      "\u001b[31mSystem message:\u001b[0m\n",
      "\n",
      "Your input fields are:\n",
      "1. `question` (str)\n",
      "\n",
      "Your output fields are:\n",
      "1. `response` (str)\n",
      "\n",
      "All interactions will be structured in the following way, with the appropriate values filled in.\n",
      "\n",
      "[[ ## question ## ]]\n",
      "{question}\n",
      "\n",
      "[[ ## response ## ]]\n",
      "{response}\n",
      "\n",
      "[[ ## completed ## ]]\n",
      "\n",
      "In adhering to this structure, your objective is: \n",
      "        Given the fields `question`, produce the fields `response`.\n",
      "\n",
      "\n",
      "\u001b[31mUser message:\u001b[0m\n",
      "\n",
      "[[ ## question ## ]]\n",
      "O que é o The Developer Conference?\n",
      "\n",
      "Respond with the corresponding output fields, starting with the field `response`, and then ending with the marker for `completed`.\n",
      "\n",
      "\n",
      "\u001b[31mResponse:\u001b[0m\n",
      "\n",
      "\u001b[32m[[ ## response ## ]]\n",
      "O The Developer Conference, também conhecido como TDC, é um evento de tecnologia que reúne desenvolvedores, profissionais de TI e entusiastas para discutir tendências, inovações e melhores práticas na área de desenvolvimento de software. O evento geralmente inclui palestras, workshops, painéis de discussão e networking, abordando uma variedade de temas como programação, arquitetura de software, metodologias ágeis, inteligência artificial, entre outros. O TDC ocorre em várias cidades do Brasil e é uma oportunidade para os participantes aprenderem com especialistas, compartilharem experiências e se atualizarem sobre as novidades do setor.\n",
      "\n",
      "[[ ## completed ## ]]\u001b[0m\n",
      "\n",
      "\n",
      "\n",
      "\n",
      "\n"
     ]
    }
   ],
   "source": [
    "#veja o que foi gerado como prompt\n",
    "dspy.inspect_history(n=1)"
   ]
  },
  {
   "cell_type": "code",
   "execution_count": 5,
   "metadata": {},
   "outputs": [
    {
     "data": {
      "text/plain": [
       "'Para além do RAG: Generative Feedback Loops Duda Nogueira (Weaviate) 14:15 -14:50 Enquanto ainda engatinhamos (a passos largos) no uso de RAG (Retrieval Augmented Generation), já começamos a olhar para outras aplicações, como por exemplo Generative Feedback Loops. Nessa apresentação, iremos mostrar alguns usos de caso e como essa nova técnica poderá trazer funcionalidades e ferramentas interessantes para a suas aplicações.'"
      ]
     },
     "execution_count": 5,
     "metadata": {},
     "output_type": "execute_result"
    }
   ],
   "source": [
    "# agora vamos pegar um exemplo de conteúdo dos nossos objetos\n",
    "collections.query.bm25(\"Duda\").objects[0].properties.get(\"content\")"
   ]
  },
  {
   "cell_type": "code",
   "execution_count": 6,
   "metadata": {},
   "outputs": [],
   "source": [
    "# agora vamos fazer um prompt para gerar perguntas com base no nosso conteudo\n",
    "# nós poderíamos aqui usar mais o dspy, e gerar essas perguntas em diverentes llms para avaliar\n",
    "prompt = '''Com base no conteúdo {content}, gere 5 perguntas sobre o tema da palestra, \n",
    "começando com menos técnica para mais técnica. Faça relações com tecnologias similares, como Retrieval Augmented Generation\n",
    "e perguntas que toquem no assunto de escalabilidade e inovação e como começar a trabalhar nessa área'''\n",
    "query = collections.generate.bm25(\"duda\", limit=1, single_prompt=prompt)"
   ]
  },
  {
   "cell_type": "code",
   "execution_count": 7,
   "metadata": {},
   "outputs": [
    {
     "name": "stdout",
     "output_type": "stream",
     "text": [
      "1. Qual é a diferença entre Generative Feedback Loops e Retrieval Augmented Generation?\n",
      "2. Como as Generative Feedback Loops podem trazer funcionalidades e ferramentas interessantes para aplicações?\n",
      "3. Quais são os possíveis usos de caso das Generative Feedback Loops?\n",
      "4. Como as Generative Feedback Loops podem contribuir para a escalabilidade de um sistema?\n",
      "5. Como uma empresa pode começar a trabalhar com Generative Feedback Loops e inovação nessa área?\n"
     ]
    }
   ],
   "source": [
    "print(query.objects[0].generated)"
   ]
  },
  {
   "cell_type": "code",
   "execution_count": 8,
   "metadata": {},
   "outputs": [],
   "source": [
    "# Ok, agora vamos pegar todas as palestras\n",
    "# eu poderia aqui filtrar os objetos, por exemplo\n",
    "query = collections.generate.fetch_objects(\n",
    "    #filters=wvc.query.Filter.by_property(\"categoria\").equal(\"palestras\")\n",
    "    single_prompt=prompt\n",
    ")\n",
    "for obj in query.objects:\n",
    "    collections.data.update(\n",
    "        uuid=obj.uuid,\n",
    "        properties={\"questions\": obj.generated}\n",
    "    )"
   ]
  },
  {
   "cell_type": "code",
   "execution_count": 9,
   "metadata": {},
   "outputs": [
    {
     "name": "stdout",
     "output_type": "stream",
     "text": [
      "####\n",
      "{'content': 'Kubeflow: Machine Learning em escala Marcio Junior Vieira (Ambiente Livre) 15:40 -16:15 Serão apresentadas algumas das funcionalidades do Kubeflow, uma recente plataforma totalmente open-source de MLOps, instalado sobre a infraestrutura de um cluster Kubernetes (on-premise ou cloud), que busca auxiliar no gerenciamento e escalabilidade das cargas de trabalho das mais diversas tarefas de aprendizagem de máquina atualmente.', 'chunk_summary': 'Marcio Junior Vieira discute as funcionalidades do Kubeflow, uma plataforma open-source de MLOps para gerenciamento e escalabilidade de tarefas de machine learning.', 'questions': '1. Qual é a importância do Kubeflow para o gerenciamento de cargas de trabalho de aprendizagem de máquina?\\n2. Como o Kubeflow se diferencia de outras plataformas de MLOps disponíveis no mercado?\\n3. Quais são as principais funcionalidades do Kubeflow que contribuem para a escalabilidade das tarefas de aprendizagem de máquina?\\n4. Como o Kubeflow pode ser utilizado para implementar estratégias de inovação em projetos de machine learning?\\n5. Para quem está começando a trabalhar com Kubeflow, quais são os primeiros passos recomendados para se familiarizar com a plataforma e suas possibilidades de escalabilidade?'}\n",
      "####\n",
      "{'content': 'Para além do RAG: Generative Feedback Loops Duda Nogueira (Weaviate) 14:15 -14:50 Enquanto ainda engatinhamos (a passos largos) no uso de RAG (Retrieval Augmented Generation), já começamos a olhar para outras aplicações, como por exemplo Generative Feedback Loops. Nessa apresentação, iremos mostrar alguns usos de caso e como essa nova técnica poderá trazer funcionalidades e ferramentas interessantes para a suas aplicações.', 'chunk_summary': 'Duda Nogueira apresenta sobre Generative Feedback Loops, explorando casos de uso e novas funcionalidades para aplicações.', 'questions': '1. Qual é a diferença entre Generative Feedback Loops e Retrieval Augmented Generation?\\n2. Como as Generative Feedback Loops podem trazer funcionalidades e ferramentas interessantes para aplicações?\\n3. Quais são os principais usos de caso das Generative Feedback Loops até o momento?\\n4. Como a escalabilidade é afetada pela implementação de Generative Feedback Loops em comparação com outras tecnologias similares?\\n5. Quais são os primeiros passos para começar a trabalhar com Generative Feedback Loops e explorar suas possibilidades de inovação?'}\n",
      "####\n",
      "{'content': 'Como integrar uma arquitetura moderna de dados a IA Generativa e Gen BI Erika Nagamine (AWS - Amazon Web Services) 13:30 -14:05 Nessa sessão vamos explorar as diferentes arquiteturas e a IA Generativa para que você possa integrar dados de diferentes fontes e diferentes tipos numa visão analitica em 360. Vamos mostrar uma aplicação na prática e você poderá checar como integrar seus dados com a IA Generativa.', 'chunk_summary': 'Erika Nagamine discute a integração de arquiteturas modernas de dados com IA Generativa e Gen BI, apresentando aplicações práticas.', 'questions': '1. Qual é a importância de integrar uma arquitetura moderna de dados com a IA Generativa para análises em 360 graus?\\n2. Como a IA Generativa pode ajudar na integração de dados de diferentes fontes e tipos?\\n3. Quais são as principais diferenças entre a IA Generativa e tecnologias similares, como o Retrieval Augmented Generation?\\n4. Como a escalabilidade é considerada ao integrar uma arquitetura moderna de dados com a IA Generativa?\\n5. Para profissionais que desejam começar a trabalhar nessa área, quais são os primeiros passos recomendados para se familiarizar com a integração de dados e IA Generativa?'}\n",
      "####\n",
      "{'content': '23/10/2024 Palco 1 Abertura Yara Mascarenhas Hornos (TDC) Bruno Souza (Code4.Life) 09:00 -09:30 Keynote Plano Brasileiro de Inteligência Artificial Cristina Shimoda (Ministério da Ciência, Tecnologia e Inovação) 09:40 -10:15 Oportunidades a partir do Plano Brasileiro de Inteligência Artificial Cristina Shimoda Ministério da Ciência, Tecnologia e Inovação', 'chunk_summary': 'Abertura do evento no Palco 1 com Yara Mascarenhas Hornos e Bruno Souza, seguida de keynote sobre o Plano Brasileiro de Inteligência Artificial por Cristina Shimoda.', 'questions': '1. Quais são as principais oportunidades que o Plano Brasileiro de Inteligência Artificial oferece para empresas e profissionais da área?\\n2. Como a implementação de tecnologias similares, como o Retrieval Augmented Generation, pode contribuir para o desenvolvimento da inteligência artificial no Brasil?\\n3. Quais são os desafios de escalabilidade que as empresas podem enfrentar ao adotar as diretrizes do Plano Brasileiro de Inteligência Artificial?\\n4. Como a inovação pode ser impulsionada através da aplicação das estratégias propostas no Plano Brasileiro de Inteligência Artificial?\\n5. Para profissionais que desejam começar a trabalhar na área de inteligência artificial, quais são os primeiros passos recomendados para se envolver com as iniciativas do Ministério da Ciência, Tecnologia e Inovação?'}\n",
      "####\n",
      "{'content': 'Diferenças entre modelos de AI e programação tradicional Ivan Viragine (Grafiniti) 11:10 -11:45 Quer entender as diferenças cruciais entre desenvolvimento de software tradicional e o emergente desenvolvimento de IA? Nesta palestra, vamos explorar como cada abordagem lida com a natureza dos outputs, atualizações, dependência de dados, e muito mais. Descubra os benefícios, desafios e considerações éticas de cada método, e veja como a IA pode transformar tarefas complexas e automatizar processos de maneira eficiente.', 'chunk_summary': 'Palestra de Ivan Viragine sobre as diferenças entre modelos de IA e programação tradicional, abordando benefícios, desafios e considerações éticas.', 'questions': '1. Quais são as principais diferenças entre o desenvolvimento de software tradicional e o desenvolvimento de IA?\\n2. Como a IA lida com a natureza dos outputs de maneira diferente da programação tradicional?\\n3. Quais são os benefícios e desafios de utilizar a IA para automatizar processos complexos?\\n4. Como a dependência de dados influencia a abordagem de desenvolvimento de software tradicional em comparação com a IA?\\n5. Como a ética é considerada no desenvolvimento de IA e como isso se compara com a programação tradicional?'}\n",
      "####\n",
      "{'content': 'Aplicando IA Generativa na Jornada de Qualidade Stênio Pereira Viveiros (Keeggo) 17:00 -17:35 Aborda como a inteligência artificial generativa está revolucionando a garantia de qualidade no desenvolvimento de software. Serão exploradas técnicas de IA que automatizam a geração de casos de teste, detectam bugs de forma proativa e simulam cenários complexos para avaliar a robustez e segurança do software.', 'chunk_summary': 'Stênio Pereira Viveiros explora o uso de IA generativa na garantia de qualidade de software, destacando automação de testes e detecção de bugs.', 'questions': '1. Como a inteligência artificial generativa pode contribuir para a melhoria da qualidade de software de forma geral?\\n2. Quais são as principais técnicas de IA utilizadas para automatizar a geração de casos de teste e detectar bugs de forma proativa?\\n3. Como a simulação de cenários complexos pode ajudar a avaliar a robustez e segurança do software?\\n4. Qual a relação entre a inteligência artificial generativa e tecnologias similares, como o Retrieval Augmented Generation?\\n5. Quais são os desafios de escalabilidade e inovação enfrentados ao implementar técnicas de IA generativa na garantia de qualidade de software e como superá-los? Como alguém pode começar a trabalhar nessa área?'}\n",
      "####\n",
      "{'content': 'Implemente Soluções com Agentes de IA, reduza custos operacionais e melhore a qualidade dos processos Danilo de Sousa (Gran Tecnologia e Educação) 17:45 -18:20 Nesta palestra, Danilo de Sousa compartilha insights sobre como agentes de IA podem revolucionar a automação de processos empresariais, explorando tipos de agentes, benefícios e exemplos práticos.', 'chunk_summary': 'Danilo de Sousa discute a implementação de agentes de IA para automação de processos, destacando benefícios e exemplos práticos.', 'questions': '1. Como os agentes de IA podem ajudar a reduzir custos operacionais e melhorar a qualidade dos processos nas empresas?\\n2. Quais são os benefícios de implementar agentes de IA na automação de processos empresariais?\\n3. Quais são os diferentes tipos de agentes de IA que podem ser utilizados para melhorar a eficiência dos processos?\\n4. Como a tecnologia de Retrieval Augmented Generation se relaciona com a implementação de agentes de IA?\\n5. Quais são os desafios de escalabilidade e inovação ao implementar agentes de IA nas empresas e como superá-los? Como uma empresa pode começar a trabalhar nessa área de forma eficaz?'}\n",
      "####\n",
      "{'content': 'Superfice de Ataque: Como minimizar riscos em um Mundo Digital. Paulo Lamellas (TechSecurity Consultoria) 16:20 -16:55 Na era atual, ataques cibernéticos são uma grande preocupação para organizações de todos os tamanhos. Uma das maneiras mais eficazes de mitigar esses riscos é gerenciando a superfície de ataque. Esta apresentação explora a importância de gerenciar a superfície de ataque e as estratégias que podemos usar para reduzir o risco de ciberataques.', 'chunk_summary': 'Paulo Lamellas aborda a gestão da superfície de ataque para minimizar riscos cibernéticos, discutindo estratégias de segurança.', 'questions': '1. Qual é a importância de gerenciar a superfície de ataque em um mundo digital cada vez mais vulnerável a ciberataques?\\n2. Quais são as estratégias mais eficazes para reduzir o risco de ciberataques ao gerenciar a superfície de ataque?\\n3. Como a abordagem de Retrieval Augmented Generation pode ser aplicada para melhorar a segurança cibernética e minimizar os riscos de ataques?\\n4. De que forma a escalabilidade das soluções de gerenciamento da superfície de ataque pode impactar a eficácia na proteção contra ciberataques?\\n5. Quais são as principais inovações em tecnologias de segurança cibernética que podem auxiliar na gestão da superfície de ataque e na prevenção de ameaças digitais? Como uma organização pode começar a implementar essas tecnologias de forma eficaz?'}\n",
      "####\n",
      "{'content': 'TDC SUMMIT IA BRASÍLIA INTELIGÊNCIA ARTIFICIAL,LIDERANÇA TÉCNICA,GESTÃO e VOCÊ! Quando? 23 e 24 de Outubro 2024 09:00 às 19:00 h GMT-3 HÍBRIDO: PRESENCIAL E ONLINE Onde? Centro de Convenções Ulysses Guimarães SDC - Ulysses Guimarães Brasília - DF Mais informações Chamadas Call4Trilhas: 21 de Maio a 24 de Junho Call4Papers: 21 de Maio a 25 de Julho Inscrições: 15 de Julho a 24 de Outubro Voluntários: Pré-inscrições: 01/10/2024 Inscrições Fase 2: até 03 de Outubro Fase 3: 04 a 24 de Outubro Inscrições Individuais Inscrições Corporativas Inscrições Gratuitas Qual Ticket escolher?', 'chunk_summary': 'Informações gerais sobre o TDC Summit IA Brasília, incluindo datas, local, formato do evento, e detalhes sobre inscrições e chamadas para trilhas e papers.', 'questions': '1. Qual é a importância da inteligência artificial na liderança técnica de uma empresa?\\n2. Como a gestão pode se beneficiar da implementação de tecnologias como a Retrieval Augmented Generation?\\n3. Quais são os desafios de escalabilidade enfrentados por empresas que buscam inovar com inteligência artificial?\\n4. Como as empresas podem começar a trabalhar na área de inteligência artificial e garantir sua competitividade no mercado?\\n5. Quais são as tendências atuais em inteligência artificial que podem impactar a liderança técnica e a gestão de empresas no futuro?'}\n",
      "####\n",
      "{'content': 'O maior evento de tecnologia do BRASIL está chegando a Brasilia com uma edição especial dedicada à Inteligência Artificial. Serão três palcos repletos de palestras técnicas, painéis de discussão, cases de sucesso e sessões focadas em processos e desenvolvimento. Além disso, teremos workshops práticos para quem deseja aprender de forma prática. O evento também trará o Hub de Mentoria, conectando mentores a participantes em busca de orientação, e o Community Lounge, promovendo rodas de conversa que irão conectar profissionais de diversas áreas. Garanta sua participação e inscreva-se agora mesmo!', 'chunk_summary': 'Descrição do evento TDC Summit IA Brasília, destacando a programação com palestras, painéis, workshops, e espaços de mentoria e networking.', 'questions': '1. Qual é a importância da Inteligência Artificial no cenário atual da tecnologia?\\n2. Como a Inteligência Artificial pode ser aplicada em diferentes setores da indústria?\\n3. Quais são os principais desafios enfrentados na implementação de soluções de Inteligência Artificial?\\n4. Como a tecnologia de Retrieval Augmented Generation se relaciona com a Inteligência Artificial?\\n5. Quais são as oportunidades de carreira e desenvolvimento profissional na área de Inteligência Artificial e como começar a trabalhar nesse campo?'}\n"
     ]
    }
   ],
   "source": [
    "for o in collections.query.fetch_objects().objects:\n",
    "    print(\"####\")\n",
    "    print(o.properties)"
   ]
  },
  {
   "cell_type": "code",
   "execution_count": 10,
   "metadata": {},
   "outputs": [
    {
     "name": "stderr",
     "output_type": "stream",
     "text": [
      "{\"action\":\"restapi_management\",\"build_git_commit\":\"fdb81e790\",\"build_go_version\":\"go1.23.2\",\"build_image_tag\":\"localhost\",\"build_wv_version\":\"1.26.7\",\"docker_image_tag\":\"localhost\",\"level\":\"info\",\"msg\":\"Shutting down... \",\"time\":\"2024-10-21T10:22:19-03:00\"}\n",
      "{\"action\":\"restapi_management\",\"build_git_commit\":\"fdb81e790\",\"build_go_version\":\"go1.23.2\",\"build_image_tag\":\"localhost\",\"build_wv_version\":\"1.26.7\",\"docker_image_tag\":\"localhost\",\"level\":\"info\",\"msg\":\"Stopped serving weaviate at http://127.0.0.1:8079\",\"time\":\"2024-10-21T10:22:19-03:00\"}\n",
      "{\"action\":\"telemetry_push\",\"build_git_commit\":\"fdb81e790\",\"build_go_version\":\"go1.23.2\",\"build_image_tag\":\"localhost\",\"build_wv_version\":\"1.26.7\",\"level\":\"info\",\"msg\":\"telemetry terminated\",\"payload\":\"\\u0026{MachineID:ccbe6fbd-4a23-43f5-aeb4-a35d6e5800fb Type:TERMINATE Version:1.26.7 NumObjects:14 OS:darwin Arch:arm64 UsedModules:[generative-cohere text2vec-cohere]}\",\"time\":\"2024-10-21T10:22:20-03:00\"}\n",
      "{\"build_git_commit\":\"fdb81e790\",\"build_go_version\":\"go1.23.2\",\"build_image_tag\":\"localhost\",\"build_wv_version\":\"1.26.7\",\"level\":\"info\",\"msg\":\"closing raft FSM store ...\",\"time\":\"2024-10-21T10:22:20-03:00\"}\n",
      "{\"build_git_commit\":\"fdb81e790\",\"build_go_version\":\"go1.23.2\",\"build_image_tag\":\"localhost\",\"build_wv_version\":\"1.26.7\",\"level\":\"info\",\"msg\":\"shutting down raft sub-system ...\",\"time\":\"2024-10-21T10:22:20-03:00\"}\n",
      "{\"build_git_commit\":\"fdb81e790\",\"build_go_version\":\"go1.23.2\",\"build_image_tag\":\"localhost\",\"build_wv_version\":\"1.26.7\",\"level\":\"info\",\"msg\":\"transferring leadership to another server\",\"time\":\"2024-10-21T10:22:20-03:00\"}\n",
      "{\"build_git_commit\":\"fdb81e790\",\"build_go_version\":\"go1.23.2\",\"build_image_tag\":\"localhost\",\"build_wv_version\":\"1.26.7\",\"error\":\"cannot find peer\",\"level\":\"error\",\"msg\":\"transferring leadership\",\"time\":\"2024-10-21T10:22:20-03:00\"}\n",
      "{\"build_git_commit\":\"fdb81e790\",\"build_go_version\":\"go1.23.2\",\"build_image_tag\":\"localhost\",\"build_wv_version\":\"1.26.7\",\"level\":\"info\",\"msg\":\"closing raft-net ...\",\"time\":\"2024-10-21T10:22:20-03:00\"}\n",
      "{\"build_git_commit\":\"fdb81e790\",\"build_go_version\":\"go1.23.2\",\"build_image_tag\":\"localhost\",\"build_wv_version\":\"1.26.7\",\"level\":\"info\",\"msg\":\"closing log store ...\",\"time\":\"2024-10-21T10:22:20-03:00\"}\n",
      "{\"build_git_commit\":\"fdb81e790\",\"build_go_version\":\"go1.23.2\",\"build_image_tag\":\"localhost\",\"build_wv_version\":\"1.26.7\",\"level\":\"info\",\"msg\":\"closing data store ...\",\"time\":\"2024-10-21T10:22:20-03:00\"}\n",
      "{\"build_git_commit\":\"fdb81e790\",\"build_go_version\":\"go1.23.2\",\"build_image_tag\":\"localhost\",\"build_wv_version\":\"1.26.7\",\"level\":\"info\",\"msg\":\"closing loaded database ...\",\"time\":\"2024-10-21T10:22:20-03:00\"}\n",
      "{\"build_git_commit\":\"fdb81e790\",\"build_go_version\":\"go1.23.2\",\"build_image_tag\":\"localhost\",\"build_wv_version\":\"1.26.7\",\"level\":\"info\",\"msg\":\"closing raft-rpc client ...\",\"time\":\"2024-10-21T10:22:20-03:00\"}\n",
      "{\"build_git_commit\":\"fdb81e790\",\"build_go_version\":\"go1.23.2\",\"build_image_tag\":\"localhost\",\"build_wv_version\":\"1.26.7\",\"level\":\"info\",\"msg\":\"closing raft-rpc server ...\",\"time\":\"2024-10-21T10:22:20-03:00\"}\n"
     ]
    }
   ],
   "source": [
    "# fechando o cliente\n",
    "client.close()"
   ]
  }
 ],
 "metadata": {
  "kernelspec": {
   "display_name": ".venv",
   "language": "python",
   "name": "python3"
  },
  "language_info": {
   "codemirror_mode": {
    "name": "ipython",
    "version": 3
   },
   "file_extension": ".py",
   "mimetype": "text/x-python",
   "name": "python",
   "nbconvert_exporter": "python",
   "pygments_lexer": "ipython3",
   "version": "3.12.5"
  }
 },
 "nbformat": 4,
 "nbformat_minor": 2
}
