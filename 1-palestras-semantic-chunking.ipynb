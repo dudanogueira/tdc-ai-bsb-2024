{
 "cells": [
  {
   "cell_type": "code",
   "execution_count": null,
   "metadata": {},
   "outputs": [],
   "source": [
    "%pip install weaviate-client unstructured dspy openai ipywidgets anthropic cohere"
   ]
  },
  {
   "cell_type": "code",
   "execution_count": 8,
   "metadata": {},
   "outputs": [
    {
     "name": "stdout",
     "output_type": "stream",
     "text": [
      "sagemaker.config INFO - Not applying SDK defaults from location: /Library/Application Support/sagemaker/config.yaml\n",
      "sagemaker.config INFO - Not applying SDK defaults from location: /Users/dudanogueira/Library/Application Support/sagemaker/config.yaml\n"
     ]
    }
   ],
   "source": [
    "# importando o que precisaremos\n",
    "import dspy\n",
    "import openai\n",
    "import os\n",
    "from unstructured.partition.html import partition_html"
   ]
  },
  {
   "cell_type": "code",
   "execution_count": 1,
   "metadata": {},
   "outputs": [],
   "source": [
    "input_html = \"https://thedevconf.com/tdc/2024/summit-brasilia/\"\n",
    "document_elements = partition_html(url=input_html, chunking_strategy=\"basic\")"
   ]
  },
  {
   "cell_type": "code",
   "execution_count": 2,
   "metadata": {},
   "outputs": [
    {
     "name": "stdout",
     "output_type": "stream",
     "text": [
      "Total de chunks 161\n",
      "#\n",
      "Prontidão Quântica: Como se preparar para o futuro da Computação?\n",
      "\n",
      "23/10/2024 13:30 -14:05Palco 2\n",
      "#\n",
      "Nesta palestra serão tocados conceitos básicos da Computação Quântica, com destaque para as principais diferenças deste paradigma tecnológico em relação à Computação Clássica, bem como apresentado um panorama do cenário que se aproxima no mundo da Computação e dos Negócios com esta nova forma de resolução de problemas computacionais. Como se preparar para a Computação Quântica? Ela resolverá todos os nossos problemas? O que de fato muda? Quantum Machine Learning... O que é isto? Estas perguntas\n",
      "#\n",
      "e vivências do palestrante, enquanto especialista da área no Banco do Brasil, serão trazidas e discutidas.\n",
      "#\n",
      "Gustavo Botelho de Souza Banco do Brasil\n",
      "\n",
      "Desconstruindo tarefas complexas com agentes inteligentes Evandro Franco (AWS)\n",
      "\n",
      "14:15 -14:50\n",
      "\n",
      "Desconstruindo tarefas complexas com agentes inteligentes\n",
      "\n",
      "23/10/2024 14:15 -14:50Palco 2\n",
      "#\n",
      "Esta sessão explorará o fascinante mundo dos agentes inteligentes, focando em como eles podem ser utilizados para desconstruir e gerenciar tarefas complexas de forma eficiente. Abordaremos conceitos fundamentais como a estrutura e funcionamento dos agentes, o poder do tool calling para expandir as capacidades dos modelos de linguagem, e as dinâmicas de sistemas multi-agentes. Os participantes sairão com uma compreensão clara de como implementar e otimizar agentes inteligentes em seus próprios\n"
     ]
    }
   ],
   "source": [
    "print(f\"Total de chunks {len(document_elements)}\")\n",
    "for i in document_elements[25:30]:\n",
    "    print(\"#\")\n",
    "    print(i.text)"
   ]
  },
  {
   "cell_type": "code",
   "execution_count": 7,
   "metadata": {},
   "outputs": [
    {
     "name": "stdout",
     "output_type": "stream",
     "text": [
      "TDC SUMMIT IA BRASÍLIA INTELIGÊNCIA ARTIFICIAL,LIDERANÇA TÉCNICA,GESTÃO e VOCÊ!\n",
      "\n",
      "Quando?\n",
      "\n",
      "23 e 24 de Outubro 2024 09:00 às 19:00 h GMT-3 HÍBRIDO: PRESENCIAL E ONLINE\n",
      "\n",
      "Onde?\n",
      "\n",
      "Centro de Convenções Ulysses Guimarães SDC - Ulysses Guimarães Brasília - DF Mais informações\n",
      "\n",
      "Chamadas\n",
      "\n",
      "Call4Trilhas: 21 de Maio a 24 de Junho Call4Papers: 21 de Maio a 25 de Julho Inscrições: 15 de Julho a 24 de Outubro Voluntários: Pré-inscrições: 01/10/2024\n",
      "\n",
      "Inscrições\n",
      "Fase 2: até 03 de Outubro Fase 3: 04 a 24 de Outubro\n"
     ]
    }
   ],
   "source": [
    "# vamos juntar todos os pedaços, como se fossem um texto contínuo\n",
    "sample = \"\\n\".join([i.text for i in document_elements])\n",
    "print(sample[0:500])"
   ]
  },
  {
   "cell_type": "code",
   "execution_count": 9,
   "metadata": {},
   "outputs": [],
   "source": [
    "gpt4 = dspy.LM(\"openai/gpt-4o\", max_tokens=4_000, model_type=\"chat\")"
   ]
  },
  {
   "cell_type": "code",
   "execution_count": 10,
   "metadata": {},
   "outputs": [],
   "source": [
    "openai.api_key = os.environ.get(\"OPENAI_APIKEY\")\n",
    "CLAUDE_API_KEY = os.environ.get(\"CLAUDE_APIKEY\")\n",
    "cohere_api_key = os.environ.get(\"COHERE_APIKEY\")\n",
    "\n",
    "# Start Llama 3.1 on your laptop with Ollama using!\n",
    "'''bash\n",
    "ollama run llama3.1\n",
    "'''\n",
    "\n",
    "gpt4 = dspy.LM(\"openai/gpt-4o\", max_tokens=4_000, model_type=\"chat\")\n",
    "claude_opus = dspy.LM(\"anthropic/claude-3-opus-20240229\", api_key=CLAUDE_API_KEY)\n",
    "command_r_plus = dspy.LM(\"cohere/command-r-plus\", max_tokens=4000, api_key=cohere_api_key)\n",
    "ollama_llama3 = dspy.LM(\"ollama/llama3.1\")\n",
    "\n",
    "# você pode comentar abaixo a linha se não quiser testar todos\n",
    "lms = [\n",
    "    #{\"name\": \"GPT-4\", \"lm\": gpt4},\n",
    "    #{\"name\": \"Claude Opus\", \"lm\": claude_opus},\n",
    "    #{\"name\": \"Command R+\", \"lm\": command_r_plus},\n",
    "    {\"name\": \"Llama 3.1\", \"lm\": ollama_llama3}\n",
    "]\n",
    "\n",
    "connection_prompt = \"Fale algo interessante sobre sistemas de banco de dados para me impressionar com sua inteligência\"\n"
   ]
  },
  {
   "cell_type": "code",
   "execution_count": 11,
   "metadata": {},
   "outputs": [
    {
     "name": "stdout",
     "output_type": "stream",
     "text": [
      "\u001b[36mTestando prompt:\n",
      "\u001b[91m\n",
      "Fale algo interessante sobre sistemas de banco de dados para me impressionar com sua inteligência\n",
      "\n",
      "\u001b[92mResultado para Llama 3.1\n",
      "\n",
      "\u001b[0mSistemas de banco de dados são fundamentais em muitas aplicações, desde pequenas bases de dados até grandes bancos de dados que armazenam informações de milhões de usuários. Aqui estão algumas características e conceitos interessantes sobre sistemas de banco de dados:\n",
      "\n",
      "1. **Modelagem de Dados**: Um dos aspectos mais importantes é a modelagem de dados. Isso envolve descrever as entidades, relações e regras que governam os dados armazenados no banco de dados. Existem várias abordagens para isso, incluindo modelos relacionais (como o SQL), modelo de chave-valor (como o Redis) e modelos NoSQL mais flexíveis.\n",
      "\n",
      "2. **Concorrência**: Com a crescente necessidade de escalabilidade em aplicações, os sistemas de banco de dados precisam lidar com concorrência. Isso significa permitir que múltiplos usuários ou processos acessem e modifiquem o banco de dados simultaneamente sem causar inconsistências nos dados.\n",
      "\n",
      "3. **Indexação**: A indexação é uma técnica usada para melhorar a performance ao realizar consultas em grandes conjuntos de dados. Ela envolve criar estruturas de dados separadas que apontam para os locais dos dados relevantes, permitindo que as operações sejam mais rápidas.\n",
      "\n",
      "4. **Transação**: Transações são sequências de operações que devem ser executadas como um único conjunto. Isso é crucial em sistemas financeiros ou qualquer aplicação onde a integridade dos dados é crítica. O sistema de banco de dados deve garantir que todas as operações dentro de uma transação sejam completas ou nenhuma delas seja.\n",
      "\n",
      "5. **Segurança**: A segurança é um aspecto fundamental, especialmente em sistemas de banco de dados que armazenam informações confidenciais. Isso inclui autenticação (verificar a identidade dos usuários), autorização (determinar quais operações os usuários podem realizar) e criptografia para proteger os dados.\n",
      "\n",
      "6. **Desempenho**: O desempenho é crucial, especialmente em aplicações que lidam com grandes volumes de dados ou tráfego intenso. Isso pode envolver otimização do índice, cacheamento de resultados frequentemente solicitados e distribuição dos dados para melhor escalabilidade.\n",
      "\n",
      "7. **Diversidade**: Existem muitos tipos diferentes de sistemas de banco de dados, cada um com suas próprias forças e fraquezas. Os relacionais (como MySQL) são excelentes para operações complexas em grandes conjuntos de dados, enquanto os NoSQL (como MongoDB) são mais flexíveis e adequados para dados não estruturados ou que mudam rapidamente.\n",
      "\n",
      "8. **Inteligência Artificial e Machine Learning**: Com a integração crescente da inteligência artificial (IA) e aprendizado de máquina (ML) em sistemas de banco de dados, é possível realizar tarefas como previsão de tendências nos dados armazenados, otimização de consultas baseadas no histórico de uso e até mesmo aprender a estrutura dos dados para melhorar a modelagem.\n",
      "\n",
      "Esses são apenas alguns exemplos da complexidade e diversidade dos sistemas de banco de dados. A inteligência por trás dessas tecnologias é impressionante, especialmente quando consideramos como elas podem ser usadas para resolver problemas em uma ampla gama de domínios.\n",
      "\n"
     ]
    }
   ],
   "source": [
    "# vamos executar nosso multi prompt!\n",
    "\n",
    "print(f\"\\033[36mTestando prompt:\\n\\033[91m\\n{connection_prompt}\\n\")\n",
    "\n",
    "for lm_dict in lms:\n",
    "    lm, name = lm_dict[\"lm\"], lm_dict[\"name\"]\n",
    "    with dspy.context(lm=lm):\n",
    "        print(f\"\\033[92mResultado para {name}\\n\")\n",
    "        print(f\"\\033[0m{lm(connection_prompt)[0]}\\n\")"
   ]
  },
  {
   "cell_type": "code",
   "execution_count": 18,
   "metadata": {},
   "outputs": [],
   "source": [
    "# Montando um Program de Chunking no dspy\n",
    "\n",
    "from typing import List\n",
    "from pydantic import BaseModel\n",
    "\n",
    "class ChunkWithSummary(BaseModel):\n",
    "    chunk: str\n",
    "    summary: str\n",
    "    category: str\n",
    "    \n",
    "class Chunker(dspy.Signature):\n",
    "    \"\"\"Your task is to divide a long document into coherent, semantic chunks of text. Each chunk should represent a complete thought or topic, typically ranging from one to three paragraphs in length. Follow these guidelines:\n",
    "1. Focus on semantic coherence: Each chunk should contain text that revolves around a single main idea or closely related ideas.\n",
    "2. Respect natural breaks: Use paragraph boundaries as a guide, but don't be bound by them if a topic continues across paragraphs.\n",
    "3. Maintain context: Ensure that each chunk can be understood independently without losing crucial context.\n",
    "4. Aim for consistency: Try to keep chunks relatively similar in length, but prioritize semantic completeness over strict length adherence.\n",
    "5. Handle transitions: When encountering transition sentences between topics, include them with the most relevant chunk.\n",
    "6. Consider document structure: Pay attention to headings, subheadings, and other structural elements that might indicate topic changes.\n",
    "7. Adjust for content type: Be flexible based on the document's nature (e.g., academic papers might have longer chunks than news articles).\n",
    "8. The content will have a lot of talks, with diffenret hours associated. Try to separate each talk on it's own chunk with date/time and author\n",
    "\n",
    "Your output should be a List of strings in portuguese containing these semantic chunks, each representing a distinct portion of the original document while preserving its overall flow and meaning.\n",
    "    \"\"\"\n",
    "    \n",
    "    long_document: str = dspy.InputField()\n",
    "    # file_summary: str = dspy.OutputField()\n",
    "    chunks_with_summaries: List[ChunkWithSummary] = dspy.OutputField()\n",
    "    \n",
    "chunker = dspy.TypedPredictor(Chunker)"
   ]
  },
  {
   "cell_type": "code",
   "execution_count": 19,
   "metadata": {},
   "outputs": [],
   "source": [
    "# vamos definir qual llm usar\n",
    "# obs: este passo pode demorar alguns minutos...\n",
    "dspy.settings.configure(lm=gpt4)\n",
    "response = chunker(long_document=sample)"
   ]
  },
  {
   "cell_type": "code",
   "execution_count": 20,
   "metadata": {},
   "outputs": [],
   "source": [
    "chunks_with_summaries = response.chunks_with_summaries"
   ]
  },
  {
   "cell_type": "code",
   "execution_count": 21,
   "metadata": {},
   "outputs": [
    {
     "data": {
      "text/plain": [
       "10"
      ]
     },
     "execution_count": 21,
     "metadata": {},
     "output_type": "execute_result"
    }
   ],
   "source": [
    "# temos agora menos objetos com melhor semântica!!\n",
    "len(chunks_with_summaries)"
   ]
  },
  {
   "cell_type": "code",
   "execution_count": 22,
   "metadata": {},
   "outputs": [
    {
     "name": "stdout",
     "output_type": "stream",
     "text": [
      "Total de chunks 10\n",
      "\u001b[92m=== Chunk 0 ===\n",
      "\u001b[0m\n",
      "TDC SUMMIT IA BRASÍLIA INTELIGÊNCIA ARTIFICIAL,LIDERANÇA TÉCNICA,GESTÃO e VOCÊ! Quando? 23 e 24 de Outubro 2024 09:00 às 19:00 h GMT-3 HÍBRIDO: PRESENCIAL E ONLINE Onde? Centro de Convenções Ulysses Guimarães SDC - Ulysses Guimarães Brasília - DF Mais informações Chamadas Call4Trilhas: 21 de Maio a 24 de Junho Call4Papers: 21 de Maio a 25 de Julho Inscrições: 15 de Julho a 24 de Outubro Voluntários: Pré-inscrições: 01/10/2024 Inscrições Fase 2: até 03 de Outubro Fase 3: 04 a 24 de Outubro Inscrições Individuais Inscrições Corporativas Inscrições Gratuitas Qual Ticket escolher?\n",
      "\n",
      "\u001b[92m=== Sumário do Chunk 0 ===\n",
      "\u001b[0m\n",
      "Informações gerais sobre o TDC Summit IA Brasília, incluindo datas, local, formato do evento, e detalhes sobre inscrições e chamadas para trilhas e papers.\n",
      "\n",
      "Informações Gerais\n",
      "\n",
      "\u001b[92m=== Chunk 1 ===\n",
      "\u001b[0m\n",
      "O maior evento de tecnologia do BRASIL está chegando a Brasilia com uma edição especial dedicada à Inteligência Artificial. Serão três palcos repletos de palestras técnicas, painéis de discussão, cases de sucesso e sessões focadas em processos e desenvolvimento. Além disso, teremos workshops práticos para quem deseja aprender de forma prática. O evento também trará o Hub de Mentoria, conectando mentores a participantes em busca de orientação, e o Community Lounge, promovendo rodas de conversa que irão conectar profissionais de diversas áreas. Garanta sua participação e inscreva-se agora mesmo!\n",
      "\n",
      "\u001b[92m=== Sumário do Chunk 1 ===\n",
      "\u001b[0m\n",
      "Descrição do evento TDC Summit IA Brasília, destacando a programação com palestras, painéis, workshops, e espaços de mentoria e networking.\n",
      "\n",
      "Descrição do Evento\n",
      "\n",
      "\u001b[92m=== Chunk 2 ===\n",
      "\u001b[0m\n",
      "23/10/2024 Palco 1 Abertura Yara Mascarenhas Hornos (TDC) Bruno Souza (Code4.Life) 09:00 -09:30 Keynote Plano Brasileiro de Inteligência Artificial Cristina Shimoda (Ministério da Ciência, Tecnologia e Inovação) 09:40 -10:15 Oportunidades a partir do Plano Brasileiro de Inteligência Artificial Cristina Shimoda Ministério da Ciência, Tecnologia e Inovação\n",
      "\n",
      "\u001b[92m=== Sumário do Chunk 2 ===\n",
      "\u001b[0m\n",
      "Abertura do evento no Palco 1 com Yara Mascarenhas Hornos e Bruno Souza, seguida de keynote sobre o Plano Brasileiro de Inteligência Artificial por Cristina Shimoda.\n",
      "\n",
      "Palestras\n",
      "\n",
      "\u001b[92m=== Chunk 3 ===\n",
      "\u001b[0m\n",
      "Diferenças entre modelos de AI e programação tradicional Ivan Viragine (Grafiniti) 11:10 -11:45 Quer entender as diferenças cruciais entre desenvolvimento de software tradicional e o emergente desenvolvimento de IA? Nesta palestra, vamos explorar como cada abordagem lida com a natureza dos outputs, atualizações, dependência de dados, e muito mais. Descubra os benefícios, desafios e considerações éticas de cada método, e veja como a IA pode transformar tarefas complexas e automatizar processos de maneira eficiente.\n",
      "\n",
      "\u001b[92m=== Sumário do Chunk 3 ===\n",
      "\u001b[0m\n",
      "Palestra de Ivan Viragine sobre as diferenças entre modelos de IA e programação tradicional, abordando benefícios, desafios e considerações éticas.\n",
      "\n",
      "Palestras\n",
      "\n",
      "\u001b[92m=== Chunk 4 ===\n",
      "\u001b[0m\n",
      "Como integrar uma arquitetura moderna de dados a IA Generativa e Gen BI Erika Nagamine (AWS - Amazon Web Services) 13:30 -14:05 Nessa sessão vamos explorar as diferentes arquiteturas e a IA Generativa para que você possa integrar dados de diferentes fontes e diferentes tipos numa visão analitica em 360. Vamos mostrar uma aplicação na prática e você poderá checar como integrar seus dados com a IA Generativa.\n",
      "\n",
      "\u001b[92m=== Sumário do Chunk 4 ===\n",
      "\u001b[0m\n",
      "Erika Nagamine discute a integração de arquiteturas modernas de dados com IA Generativa e Gen BI, apresentando aplicações práticas.\n",
      "\n",
      "Palestras\n",
      "\n",
      "\u001b[92m=== Chunk 5 ===\n",
      "\u001b[0m\n",
      "Para além do RAG: Generative Feedback Loops Duda Nogueira (Weaviate) 14:15 -14:50 Enquanto ainda engatinhamos (a passos largos) no uso de RAG (Retrieval Augmented Generation), já começamos a olhar para outras aplicações, como por exemplo Generative Feedback Loops. Nessa apresentação, iremos mostrar alguns usos de caso e como essa nova técnica poderá trazer funcionalidades e ferramentas interessantes para a suas aplicações.\n",
      "\n",
      "\u001b[92m=== Sumário do Chunk 5 ===\n",
      "\u001b[0m\n",
      "Duda Nogueira apresenta sobre Generative Feedback Loops, explorando casos de uso e novas funcionalidades para aplicações.\n",
      "\n",
      "Palestras\n",
      "\n",
      "\u001b[92m=== Chunk 6 ===\n",
      "\u001b[0m\n",
      "Kubeflow: Machine Learning em escala Marcio Junior Vieira (Ambiente Livre) 15:40 -16:15 Serão apresentadas algumas das funcionalidades do Kubeflow, uma recente plataforma totalmente open-source de MLOps, instalado sobre a infraestrutura de um cluster Kubernetes (on-premise ou cloud), que busca auxiliar no gerenciamento e escalabilidade das cargas de trabalho das mais diversas tarefas de aprendizagem de máquina atualmente.\n",
      "\n",
      "\u001b[92m=== Sumário do Chunk 6 ===\n",
      "\u001b[0m\n",
      "Marcio Junior Vieira discute as funcionalidades do Kubeflow, uma plataforma open-source de MLOps para gerenciamento e escalabilidade de tarefas de machine learning.\n",
      "\n",
      "Palestras\n",
      "\n",
      "\u001b[92m=== Chunk 7 ===\n",
      "\u001b[0m\n",
      "Superfice de Ataque: Como minimizar riscos em um Mundo Digital. Paulo Lamellas (TechSecurity Consultoria) 16:20 -16:55 Na era atual, ataques cibernéticos são uma grande preocupação para organizações de todos os tamanhos. Uma das maneiras mais eficazes de mitigar esses riscos é gerenciando a superfície de ataque. Esta apresentação explora a importância de gerenciar a superfície de ataque e as estratégias que podemos usar para reduzir o risco de ciberataques.\n",
      "\n",
      "\u001b[92m=== Sumário do Chunk 7 ===\n",
      "\u001b[0m\n",
      "Paulo Lamellas aborda a gestão da superfície de ataque para minimizar riscos cibernéticos, discutindo estratégias de segurança.\n",
      "\n",
      "Palestras\n",
      "\n",
      "\u001b[92m=== Chunk 8 ===\n",
      "\u001b[0m\n",
      "Aplicando IA Generativa na Jornada de Qualidade Stênio Pereira Viveiros (Keeggo) 17:00 -17:35 Aborda como a inteligência artificial generativa está revolucionando a garantia de qualidade no desenvolvimento de software. Serão exploradas técnicas de IA que automatizam a geração de casos de teste, detectam bugs de forma proativa e simulam cenários complexos para avaliar a robustez e segurança do software.\n",
      "\n",
      "\u001b[92m=== Sumário do Chunk 8 ===\n",
      "\u001b[0m\n",
      "Stênio Pereira Viveiros explora o uso de IA generativa na garantia de qualidade de software, destacando automação de testes e detecção de bugs.\n",
      "\n",
      "Palestras\n",
      "\n",
      "\u001b[92m=== Chunk 9 ===\n",
      "\u001b[0m\n",
      "Implemente Soluções com Agentes de IA, reduza custos operacionais e melhore a qualidade dos processos Danilo de Sousa (Gran Tecnologia e Educação) 17:45 -18:20 Nesta palestra, Danilo de Sousa compartilha insights sobre como agentes de IA podem revolucionar a automação de processos empresariais, explorando tipos de agentes, benefícios e exemplos práticos.\n",
      "\n",
      "\u001b[92m=== Sumário do Chunk 9 ===\n",
      "\u001b[0m\n",
      "Danilo de Sousa discute a implementação de agentes de IA para automação de processos, destacando benefícios e exemplos práticos.\n",
      "\n",
      "Palestras\n",
      "\n"
     ]
    }
   ],
   "source": [
    "print(f\"Total de chunks {len(chunks_with_summaries)}\")\n",
    "for i, chunk in enumerate(chunks_with_summaries):\n",
    "    print(f\"\\033[92m=== Chunk {i} ===\\n\\033[0m\")\n",
    "    print(f\"{chunk.chunk}\\n\")\n",
    "    print(f\"\\033[92m=== Sumário do Chunk {i} ===\\n\\033[0m\")\n",
    "    print(f\"{chunk.summary}\\n\")\n",
    "    print(f\"{chunk.category}\\n\")"
   ]
  },
  {
   "cell_type": "code",
   "execution_count": 23,
   "metadata": {},
   "outputs": [
    {
     "name": "stdout",
     "output_type": "stream",
     "text": [
      "TOTAL DE CHUNKS 162\n",
      "#####\n",
      "TDC SUMMIT IA BRASÍLIA INTELIGÊNCIA ARTIFICIAL,LIDERANÇA TÉCNICA,GESTÃO e VOCÊ!\n",
      "\n",
      "Quando?\n",
      "\n",
      "23 e 24 de Outubro 2024 09:00 às 19:00 h GMT-3 HÍBRIDO: PRESENCIAL E ONLINE\n",
      "\n",
      "Onde?\n",
      "\n",
      "Centro de Convenções Ulysses Guimarães SDC - Ulysses Guimarães Brasília - DF Mais informações\n",
      "\n",
      "Chamadas\n",
      "\n",
      "Call4Trilhas: 21 de Maio a 24 de Junho Call4Papers: 21 de Maio a 25 de Julho Inscrições: 15 de Julho a 24 de Outubro Voluntários: Pré-inscrições: 01/10/2024\n",
      "\n",
      "Inscrições\n",
      "#####\n",
      "Fase 2: até 03 de Outubro Fase 3: 04 a 24 de Outubro\n",
      "\n",
      "Inscrições Individuais\n",
      "\n",
      "Inscrições Corporativas\n",
      "\n",
      "Inscrições Gratuitas\n",
      "\n",
      "Qual Ticket escolher?\n",
      "\n",
      "O maior evento de tecnologia do BRASIL está chegando a Brasilia com uma edição especial dedicada à Inteligência Artificial.\n",
      "#####\n",
      "Serão três palcos repletos de palestras técnicas, painéis de discussão, cases de sucesso e sessões focadas em processos e desenvolvimento. Além disso, teremos workshops práticos para quem deseja aprender de forma prática. O evento também trará o Hub de Mentoria, conectando mentores a participantes em busca de orientação, e o Community Lounge, promovendo rodas de conversa que irão conectar profissionais de diversas áreas.\n",
      "\n",
      "Garanta sua participação e inscreva-se agora mesmo!\n",
      "#####\n",
      "Confira a Programação por Dia e Sala\n",
      "\n",
      "23/10/2024\n",
      "\n",
      "24/10/2024\n",
      "\n",
      "Palco 1\n",
      "\n",
      "Abertura Yara Mascarenhas Hornos (TDC) Bruno Souza (Code4.Life)\n",
      "\n",
      "09:00 -09:30\n",
      "\n",
      "Keynote Plano Brasileiro de Inteligência Artificial Cristina Shimoda (Ministério da Ciência, Tecnologia e Inovação)\n",
      "\n",
      "09:40 -10:15\n",
      "\n",
      "Keynote Plano Brasileiro de Inteligência Artificial\n",
      "\n",
      "23/10/2024 09:40 -10:15Palco 1\n",
      "\n",
      "Oportunidades a partir do Plano Brasileiro de Inteligência Artificial\n",
      "\n",
      "Cristina Shimoda Ministério da Ciência, Tecnologia e Inovação\n",
      "#####\n",
      "Diferenças entre modelos de AI e programação tradicional Ivan Viragine (Grafiniti)\n",
      "\n",
      "11:10 -11:45\n",
      "\n",
      "Diferenças entre modelos de AI e programação tradicional\n",
      "\n",
      "23/10/2024 11:10 -11:45Palco 1\n"
     ]
    }
   ],
   "source": [
    "# Se usarmos um método de chunking \"comum\", \n",
    "# por quantidades máximas e sobreposição, o resultado seria esse:\n",
    "from unstructured.partition.html import partition_html\n",
    "input_html = \"https://thedevconf.com/tdc/2024/summit-brasilia/\"\n",
    "document_elements = partition_html(url=input_html, chunking_strategy=\"basic\")\n",
    "\n",
    "print(\"TOTAL DE CHUNKS\", len(document_elements))\n",
    "\n",
    "for i in document_elements[0:5]:\n",
    "    print(\"#####\")\n",
    "    print(i.text)"
   ]
  },
  {
   "cell_type": "code",
   "execution_count": 24,
   "metadata": {},
   "outputs": [
    {
     "name": "stderr",
     "output_type": "stream",
     "text": [
      "{\"action\":\"startup\",\"build_git_commit\":\"fdb81e790\",\"build_go_version\":\"go1.23.2\",\"build_image_tag\":\"localhost\",\"build_wv_version\":\"1.26.7\",\"default_vectorizer_module\":\"none\",\"level\":\"info\",\"msg\":\"the default vectorizer modules is set to \\\"none\\\", as a result all new schema classes without an explicit vectorizer setting, will use this vectorizer\",\"time\":\"2024-10-21T10:17:48-03:00\"}\n",
      "{\"action\":\"startup\",\"auto_schema_enabled\":true,\"build_git_commit\":\"fdb81e790\",\"build_go_version\":\"go1.23.2\",\"build_image_tag\":\"localhost\",\"build_wv_version\":\"1.26.7\",\"level\":\"info\",\"msg\":\"auto schema enabled setting is set to \\\"true\\\"\",\"time\":\"2024-10-21T10:17:48-03:00\"}\n",
      "{\"build_git_commit\":\"fdb81e790\",\"build_go_version\":\"go1.23.2\",\"build_image_tag\":\"localhost\",\"build_wv_version\":\"1.26.7\",\"level\":\"info\",\"msg\":\"No resource limits set, weaviate will use all available memory and CPU. To limit resources, set LIMIT_RESOURCES=true\",\"time\":\"2024-10-21T10:17:48-03:00\"}\n",
      "{\"build_git_commit\":\"fdb81e790\",\"build_go_version\":\"go1.23.2\",\"build_image_tag\":\"localhost\",\"build_wv_version\":\"1.26.7\",\"level\":\"info\",\"msg\":\"module offload-s3 is enabled\",\"time\":\"2024-10-21T10:17:48-03:00\"}\n",
      "{\"build_git_commit\":\"fdb81e790\",\"build_go_version\":\"go1.23.2\",\"build_image_tag\":\"localhost\",\"build_wv_version\":\"1.26.7\",\"level\":\"warning\",\"msg\":\"Multiple vector spaces are present, GraphQL Explore and REST API list objects endpoint module include params has been disabled as a result.\",\"time\":\"2024-10-21T10:17:48-03:00\"}\n",
      "{\"build_git_commit\":\"fdb81e790\",\"build_go_version\":\"go1.23.2\",\"build_image_tag\":\"localhost\",\"build_wv_version\":\"1.26.7\",\"level\":\"info\",\"msg\":\"open cluster service\",\"servers\":{\"Embedded_at_8079\":64967},\"time\":\"2024-10-21T10:17:48-03:00\"}\n",
      "{\"address\":\"192.168.28.99:64968\",\"build_git_commit\":\"fdb81e790\",\"build_go_version\":\"go1.23.2\",\"build_image_tag\":\"localhost\",\"build_wv_version\":\"1.26.7\",\"level\":\"info\",\"msg\":\"starting cloud rpc server ...\",\"time\":\"2024-10-21T10:17:48-03:00\"}\n",
      "{\"build_git_commit\":\"fdb81e790\",\"build_go_version\":\"go1.23.2\",\"build_image_tag\":\"localhost\",\"build_wv_version\":\"1.26.7\",\"level\":\"info\",\"msg\":\"starting raft sub-system ...\",\"time\":\"2024-10-21T10:17:48-03:00\"}\n",
      "{\"address\":\"192.168.28.99:64967\",\"build_git_commit\":\"fdb81e790\",\"build_go_version\":\"go1.23.2\",\"build_image_tag\":\"localhost\",\"build_wv_version\":\"1.26.7\",\"level\":\"info\",\"msg\":\"tcp transport\",\"tcpMaxPool\":3,\"tcpTimeout\":10000000000,\"time\":\"2024-10-21T10:17:48-03:00\"}\n",
      "{\"build_git_commit\":\"fdb81e790\",\"build_go_version\":\"go1.23.2\",\"build_image_tag\":\"localhost\",\"build_wv_version\":\"1.26.7\",\"level\":\"info\",\"msg\":\"loading local db\",\"time\":\"2024-10-21T10:17:48-03:00\"}\n",
      "{\"build_git_commit\":\"fdb81e790\",\"build_go_version\":\"go1.23.2\",\"build_image_tag\":\"localhost\",\"build_wv_version\":\"1.26.7\",\"level\":\"info\",\"msg\":\"local DB successfully loaded\",\"time\":\"2024-10-21T10:17:48-03:00\"}\n",
      "{\"build_git_commit\":\"fdb81e790\",\"build_go_version\":\"go1.23.2\",\"build_image_tag\":\"localhost\",\"build_wv_version\":\"1.26.7\",\"level\":\"info\",\"msg\":\"schema manager loaded\",\"n\":0,\"time\":\"2024-10-21T10:17:48-03:00\"}\n",
      "{\"build_git_commit\":\"fdb81e790\",\"build_go_version\":\"go1.23.2\",\"build_image_tag\":\"localhost\",\"build_wv_version\":\"1.26.7\",\"level\":\"info\",\"metadata_only_voters\":false,\"msg\":\"construct a new raft node\",\"name\":\"Embedded_at_8079\",\"time\":\"2024-10-21T10:17:48-03:00\"}\n",
      "{\"action\":\"raft\",\"build_git_commit\":\"fdb81e790\",\"build_go_version\":\"go1.23.2\",\"build_image_tag\":\"localhost\",\"build_wv_version\":\"1.26.7\",\"index\":63,\"level\":\"info\",\"msg\":\"raft initial configuration\",\"servers\":\"[[{Suffrage:Voter ID:Embedded_at_8079 Address:192.168.28.99:60299}]]\",\"time\":\"2024-10-21T10:17:48-03:00\"}\n",
      "{\"action\":\"raft\",\"build_git_commit\":\"fdb81e790\",\"build_go_version\":\"go1.23.2\",\"build_image_tag\":\"localhost\",\"build_wv_version\":\"1.26.7\",\"follower\":{},\"leader-address\":\"\",\"leader-id\":\"\",\"level\":\"info\",\"msg\":\"raft entering follower state\",\"time\":\"2024-10-21T10:17:48-03:00\"}\n",
      "{\"build_git_commit\":\"fdb81e790\",\"build_go_version\":\"go1.23.2\",\"build_image_tag\":\"localhost\",\"build_wv_version\":\"1.26.7\",\"last_snapshot_index\":0,\"last_store_applied_index_on_start\":66,\"level\":\"info\",\"msg\":\"raft node constructed\",\"raft_applied_index\":0,\"raft_last_index\":66,\"time\":\"2024-10-21T10:17:48-03:00\"}\n",
      "{\"build_git_commit\":\"fdb81e790\",\"build_go_version\":\"go1.23.2\",\"build_image_tag\":\"localhost\",\"build_wv_version\":\"1.26.7\",\"hasState\":true,\"level\":\"info\",\"msg\":\"raft init\",\"time\":\"2024-10-21T10:17:48-03:00\"}\n",
      "{\"build_git_commit\":\"fdb81e790\",\"build_go_version\":\"go1.23.2\",\"build_image_tag\":\"localhost\",\"build_wv_version\":\"1.26.7\",\"level\":\"info\",\"msg\":\"attempting to join\",\"remoteNodes\":[\"192.168.28.99:64967\"],\"time\":\"2024-10-21T10:17:48-03:00\"}\n",
      "{\"build_git_commit\":\"fdb81e790\",\"build_go_version\":\"go1.23.2\",\"build_image_tag\":\"localhost\",\"build_wv_version\":\"1.26.7\",\"level\":\"info\",\"msg\":\"attempted to join and failed\",\"remoteNode\":\"192.168.28.99:64967\",\"status\":8,\"time\":\"2024-10-21T10:17:48-03:00\"}\n",
      "{\"build_git_commit\":\"fdb81e790\",\"build_go_version\":\"go1.23.2\",\"build_image_tag\":\"localhost\",\"build_wv_version\":\"1.26.7\",\"level\":\"info\",\"msg\":\"attempting to join\",\"remoteNodes\":[\"192.168.28.99:64967\"],\"time\":\"2024-10-21T10:17:49-03:00\"}\n",
      "{\"build_git_commit\":\"fdb81e790\",\"build_go_version\":\"go1.23.2\",\"build_image_tag\":\"localhost\",\"build_wv_version\":\"1.26.7\",\"level\":\"info\",\"msg\":\"attempted to join and failed\",\"remoteNode\":\"192.168.28.99:64967\",\"status\":8,\"time\":\"2024-10-21T10:17:49-03:00\"}\n",
      "{\"action\":\"raft\",\"build_git_commit\":\"fdb81e790\",\"build_go_version\":\"go1.23.2\",\"build_image_tag\":\"localhost\",\"build_wv_version\":\"1.26.7\",\"last-leader-addr\":\"\",\"last-leader-id\":\"\",\"level\":\"warning\",\"msg\":\"raft heartbeat timeout reached, starting election\",\"time\":\"2024-10-21T10:17:49-03:00\"}\n",
      "{\"action\":\"raft\",\"build_git_commit\":\"fdb81e790\",\"build_go_version\":\"go1.23.2\",\"build_image_tag\":\"localhost\",\"build_wv_version\":\"1.26.7\",\"level\":\"info\",\"msg\":\"raft entering candidate state\",\"node\":{},\"term\":23,\"time\":\"2024-10-21T10:17:49-03:00\"}\n",
      "{\"action\":\"raft\",\"build_git_commit\":\"fdb81e790\",\"build_go_version\":\"go1.23.2\",\"build_image_tag\":\"localhost\",\"build_wv_version\":\"1.26.7\",\"level\":\"info\",\"msg\":\"raft pre-vote successful, starting election\",\"refused\":0,\"tally\":1,\"term\":23,\"time\":\"2024-10-21T10:17:49-03:00\",\"votesNeeded\":1}\n",
      "{\"action\":\"raft\",\"build_git_commit\":\"fdb81e790\",\"build_go_version\":\"go1.23.2\",\"build_image_tag\":\"localhost\",\"build_wv_version\":\"1.26.7\",\"level\":\"info\",\"msg\":\"raft election won\",\"tally\":1,\"term\":23,\"time\":\"2024-10-21T10:17:49-03:00\"}\n",
      "{\"action\":\"raft\",\"build_git_commit\":\"fdb81e790\",\"build_go_version\":\"go1.23.2\",\"build_image_tag\":\"localhost\",\"build_wv_version\":\"1.26.7\",\"leader\":{},\"level\":\"info\",\"msg\":\"raft entering leader state\",\"time\":\"2024-10-21T10:17:49-03:00\"}\n",
      "{\"build_git_commit\":\"fdb81e790\",\"build_go_version\":\"go1.23.2\",\"build_image_tag\":\"localhost\",\"build_wv_version\":\"1.26.7\",\"level\":\"info\",\"msg\":\"Schema catching up: applying log entry: [7/66]\",\"time\":\"2024-10-21T10:17:49-03:00\"}\n",
      "{\"build_git_commit\":\"fdb81e790\",\"build_go_version\":\"go1.23.2\",\"build_image_tag\":\"localhost\",\"build_wv_version\":\"1.26.7\",\"level\":\"info\",\"msg\":\"Schema catching up: applying log entry: [8/66]\",\"time\":\"2024-10-21T10:17:49-03:00\"}\n",
      "{\"build_git_commit\":\"fdb81e790\",\"build_go_version\":\"go1.23.2\",\"build_image_tag\":\"localhost\",\"build_wv_version\":\"1.26.7\",\"level\":\"info\",\"msg\":\"Schema catching up: applying log entry: [9/66]\",\"time\":\"2024-10-21T10:17:49-03:00\"}\n",
      "{\"build_git_commit\":\"fdb81e790\",\"build_go_version\":\"go1.23.2\",\"build_image_tag\":\"localhost\",\"build_wv_version\":\"1.26.7\",\"level\":\"info\",\"msg\":\"Schema catching up: applying log entry: [16/66]\",\"time\":\"2024-10-21T10:17:49-03:00\"}\n",
      "{\"build_git_commit\":\"fdb81e790\",\"build_go_version\":\"go1.23.2\",\"build_image_tag\":\"localhost\",\"build_wv_version\":\"1.26.7\",\"level\":\"info\",\"msg\":\"Schema catching up: applying log entry: [17/66]\",\"time\":\"2024-10-21T10:17:49-03:00\"}\n",
      "{\"build_git_commit\":\"fdb81e790\",\"build_go_version\":\"go1.23.2\",\"build_image_tag\":\"localhost\",\"build_wv_version\":\"1.26.7\",\"level\":\"info\",\"msg\":\"Schema catching up: applying log entry: [18/66]\",\"time\":\"2024-10-21T10:17:49-03:00\"}\n",
      "{\"build_git_commit\":\"fdb81e790\",\"build_go_version\":\"go1.23.2\",\"build_image_tag\":\"localhost\",\"build_wv_version\":\"1.26.7\",\"level\":\"info\",\"msg\":\"Schema catching up: applying log entry: [21/66]\",\"time\":\"2024-10-21T10:17:49-03:00\"}\n",
      "{\"build_git_commit\":\"fdb81e790\",\"build_go_version\":\"go1.23.2\",\"build_image_tag\":\"localhost\",\"build_wv_version\":\"1.26.7\",\"level\":\"info\",\"msg\":\"Schema catching up: applying log entry: [22/66]\",\"time\":\"2024-10-21T10:17:49-03:00\"}\n",
      "{\"build_git_commit\":\"fdb81e790\",\"build_go_version\":\"go1.23.2\",\"build_image_tag\":\"localhost\",\"build_wv_version\":\"1.26.7\",\"level\":\"info\",\"msg\":\"Schema catching up: applying log entry: [23/66]\",\"time\":\"2024-10-21T10:17:49-03:00\"}\n",
      "{\"build_git_commit\":\"fdb81e790\",\"build_go_version\":\"go1.23.2\",\"build_image_tag\":\"localhost\",\"build_wv_version\":\"1.26.7\",\"level\":\"info\",\"msg\":\"Schema catching up: applying log entry: [24/66]\",\"time\":\"2024-10-21T10:17:49-03:00\"}\n",
      "{\"build_git_commit\":\"fdb81e790\",\"build_go_version\":\"go1.23.2\",\"build_image_tag\":\"localhost\",\"build_wv_version\":\"1.26.7\",\"level\":\"info\",\"msg\":\"Schema catching up: applying log entry: [25/66]\",\"time\":\"2024-10-21T10:17:49-03:00\"}\n",
      "{\"build_git_commit\":\"fdb81e790\",\"build_go_version\":\"go1.23.2\",\"build_image_tag\":\"localhost\",\"build_wv_version\":\"1.26.7\",\"level\":\"info\",\"msg\":\"Schema catching up: applying log entry: [28/66]\",\"time\":\"2024-10-21T10:17:49-03:00\"}\n",
      "{\"build_git_commit\":\"fdb81e790\",\"build_go_version\":\"go1.23.2\",\"build_image_tag\":\"localhost\",\"build_wv_version\":\"1.26.7\",\"level\":\"info\",\"msg\":\"Schema catching up: applying log entry: [31/66]\",\"time\":\"2024-10-21T10:17:49-03:00\"}\n",
      "{\"build_git_commit\":\"fdb81e790\",\"build_go_version\":\"go1.23.2\",\"build_image_tag\":\"localhost\",\"build_wv_version\":\"1.26.7\",\"level\":\"info\",\"msg\":\"Schema catching up: applying log entry: [32/66]\",\"time\":\"2024-10-21T10:17:49-03:00\"}\n",
      "{\"build_git_commit\":\"fdb81e790\",\"build_go_version\":\"go1.23.2\",\"build_image_tag\":\"localhost\",\"build_wv_version\":\"1.26.7\",\"level\":\"info\",\"msg\":\"Schema catching up: applying log entry: [33/66]\",\"time\":\"2024-10-21T10:17:49-03:00\"}\n",
      "{\"build_git_commit\":\"fdb81e790\",\"build_go_version\":\"go1.23.2\",\"build_image_tag\":\"localhost\",\"build_wv_version\":\"1.26.7\",\"level\":\"info\",\"msg\":\"Schema catching up: applying log entry: [36/66]\",\"time\":\"2024-10-21T10:17:49-03:00\"}\n",
      "{\"build_git_commit\":\"fdb81e790\",\"build_go_version\":\"go1.23.2\",\"build_image_tag\":\"localhost\",\"build_wv_version\":\"1.26.7\",\"level\":\"info\",\"msg\":\"Schema catching up: applying log entry: [37/66]\",\"time\":\"2024-10-21T10:17:49-03:00\"}\n",
      "{\"build_git_commit\":\"fdb81e790\",\"build_go_version\":\"go1.23.2\",\"build_image_tag\":\"localhost\",\"build_wv_version\":\"1.26.7\",\"level\":\"info\",\"msg\":\"Schema catching up: applying log entry: [38/66]\",\"time\":\"2024-10-21T10:17:49-03:00\"}\n",
      "{\"build_git_commit\":\"fdb81e790\",\"build_go_version\":\"go1.23.2\",\"build_image_tag\":\"localhost\",\"build_wv_version\":\"1.26.7\",\"level\":\"info\",\"msg\":\"Schema catching up: applying log entry: [41/66]\",\"time\":\"2024-10-21T10:17:49-03:00\"}\n",
      "{\"build_git_commit\":\"fdb81e790\",\"build_go_version\":\"go1.23.2\",\"build_image_tag\":\"localhost\",\"build_wv_version\":\"1.26.7\",\"level\":\"info\",\"msg\":\"Schema catching up: applying log entry: [42/66]\",\"time\":\"2024-10-21T10:17:49-03:00\"}\n",
      "{\"build_git_commit\":\"fdb81e790\",\"build_go_version\":\"go1.23.2\",\"build_image_tag\":\"localhost\",\"build_wv_version\":\"1.26.7\",\"level\":\"info\",\"msg\":\"Schema catching up: applying log entry: [43/66]\",\"time\":\"2024-10-21T10:17:49-03:00\"}\n",
      "{\"build_git_commit\":\"fdb81e790\",\"build_go_version\":\"go1.23.2\",\"build_image_tag\":\"localhost\",\"build_wv_version\":\"1.26.7\",\"level\":\"info\",\"msg\":\"Schema catching up: applying log entry: [49/66]\",\"time\":\"2024-10-21T10:17:49-03:00\"}\n",
      "{\"build_git_commit\":\"fdb81e790\",\"build_go_version\":\"go1.23.2\",\"build_image_tag\":\"localhost\",\"build_wv_version\":\"1.26.7\",\"level\":\"info\",\"msg\":\"Schema catching up: applying log entry: [50/66]\",\"time\":\"2024-10-21T10:17:49-03:00\"}\n",
      "{\"build_git_commit\":\"fdb81e790\",\"build_go_version\":\"go1.23.2\",\"build_image_tag\":\"localhost\",\"build_wv_version\":\"1.26.7\",\"level\":\"info\",\"msg\":\"Schema catching up: applying log entry: [51/66]\",\"time\":\"2024-10-21T10:17:49-03:00\"}\n",
      "{\"build_git_commit\":\"fdb81e790\",\"build_go_version\":\"go1.23.2\",\"build_image_tag\":\"localhost\",\"build_wv_version\":\"1.26.7\",\"level\":\"info\",\"msg\":\"Schema catching up: applying log entry: [54/66]\",\"time\":\"2024-10-21T10:17:49-03:00\"}\n",
      "{\"build_git_commit\":\"fdb81e790\",\"build_go_version\":\"go1.23.2\",\"build_image_tag\":\"localhost\",\"build_wv_version\":\"1.26.7\",\"level\":\"info\",\"msg\":\"Schema catching up: applying log entry: [59/66]\",\"time\":\"2024-10-21T10:17:49-03:00\"}\n",
      "{\"build_git_commit\":\"fdb81e790\",\"build_go_version\":\"go1.23.2\",\"build_image_tag\":\"localhost\",\"build_wv_version\":\"1.26.7\",\"level\":\"info\",\"msg\":\"Schema catching up: applying log entry: [64/66]\",\"time\":\"2024-10-21T10:17:49-03:00\"}\n",
      "{\"build_git_commit\":\"fdb81e790\",\"build_go_version\":\"go1.23.2\",\"build_image_tag\":\"localhost\",\"build_wv_version\":\"1.26.7\",\"level\":\"info\",\"msg\":\"Schema catching up: applying log entry: [65/66]\",\"time\":\"2024-10-21T10:17:49-03:00\"}\n",
      "{\"build_git_commit\":\"fdb81e790\",\"build_go_version\":\"go1.23.2\",\"build_image_tag\":\"localhost\",\"build_wv_version\":\"1.26.7\",\"level\":\"info\",\"msg\":\"Schema catching up: applying log entry: [66/66]\",\"time\":\"2024-10-21T10:17:49-03:00\"}\n",
      "{\"build_git_commit\":\"fdb81e790\",\"build_go_version\":\"go1.23.2\",\"build_image_tag\":\"localhost\",\"build_wv_version\":\"1.26.7\",\"last_store_log_applied_index\":66,\"level\":\"info\",\"log_index\":66,\"log_name\":\"LogCommand\",\"log_type\":0,\"msg\":\"reloading local DB as RAFT and local DB are now caught up\",\"time\":\"2024-10-21T10:17:49-03:00\"}\n",
      "{\"build_git_commit\":\"fdb81e790\",\"build_go_version\":\"go1.23.2\",\"build_image_tag\":\"localhost\",\"build_wv_version\":\"1.26.7\",\"level\":\"info\",\"msg\":\"reload local db: update schema ...\",\"time\":\"2024-10-21T10:17:49-03:00\"}\n",
      "{\"build_git_commit\":\"fdb81e790\",\"build_go_version\":\"go1.23.2\",\"build_image_tag\":\"localhost\",\"build_wv_version\":\"1.26.7\",\"index\":\"Palestras\",\"level\":\"info\",\"msg\":\"reload local index\",\"time\":\"2024-10-21T10:17:49-03:00\"}\n",
      "{\"build_git_commit\":\"fdb81e790\",\"build_go_version\":\"go1.23.2\",\"build_image_tag\":\"localhost\",\"build_wv_version\":\"1.26.7\",\"index\":\"Animais\",\"level\":\"info\",\"msg\":\"reload local index\",\"time\":\"2024-10-21T10:17:49-03:00\"}\n",
      "{\"build_git_commit\":\"fdb81e790\",\"build_go_version\":\"go1.23.2\",\"build_image_tag\":\"localhost\",\"build_wv_version\":\"1.26.7\",\"docker_image_tag\":\"localhost\",\"level\":\"info\",\"msg\":\"configured versions\",\"server_version\":\"1.26.7\",\"time\":\"2024-10-21T10:17:50-03:00\"}\n",
      "{\"action\":\"grpc_startup\",\"build_git_commit\":\"fdb81e790\",\"build_go_version\":\"go1.23.2\",\"build_image_tag\":\"localhost\",\"build_wv_version\":\"1.26.7\",\"level\":\"info\",\"msg\":\"grpc server listening at [::]:50050\",\"time\":\"2024-10-21T10:17:50-03:00\"}\n",
      "{\"address\":\"192.168.28.99:64967\",\"build_git_commit\":\"fdb81e790\",\"build_go_version\":\"go1.23.2\",\"build_image_tag\":\"localhost\",\"build_wv_version\":\"1.26.7\",\"level\":\"info\",\"msg\":\"current Leader\",\"time\":\"2024-10-21T10:17:50-03:00\"}\n",
      "{\"build_git_commit\":\"fdb81e790\",\"build_go_version\":\"go1.23.2\",\"build_image_tag\":\"localhost\",\"build_wv_version\":\"1.26.7\",\"level\":\"info\",\"msg\":\"attempting to join\",\"remoteNodes\":[\"192.168.28.99:64967\"],\"time\":\"2024-10-21T10:17:50-03:00\"}\n",
      "{\"action\":\"raft\",\"build_git_commit\":\"fdb81e790\",\"build_go_version\":\"go1.23.2\",\"build_image_tag\":\"localhost\",\"build_wv_version\":\"1.26.7\",\"command\":0,\"level\":\"info\",\"msg\":\"raft updating configuration\",\"server-addr\":\"192.168.28.99:64967\",\"server-id\":\"Embedded_at_8079\",\"servers\":\"[[{Suffrage:Voter ID:Embedded_at_8079 Address:192.168.28.99:64967}]]\",\"time\":\"2024-10-21T10:17:50-03:00\"}\n",
      "{\"action\":\"restapi_management\",\"build_git_commit\":\"fdb81e790\",\"build_go_version\":\"go1.23.2\",\"build_image_tag\":\"localhost\",\"build_wv_version\":\"1.26.7\",\"docker_image_tag\":\"localhost\",\"level\":\"info\",\"msg\":\"Serving weaviate at http://127.0.0.1:8079\",\"time\":\"2024-10-21T10:17:50-03:00\"}\n"
     ]
    },
    {
     "name": "stdout",
     "output_type": "stream",
     "text": [
      "4.9.0 1.26.7\n"
     ]
    },
    {
     "name": "stderr",
     "output_type": "stream",
     "text": [
      "{\"action\":\"lsm_recover_from_active_wal\",\"build_git_commit\":\"fdb81e790\",\"build_go_version\":\"go1.23.2\",\"build_image_tag\":\"localhost\",\"build_wv_version\":\"1.26.7\",\"class\":\"Palestras\",\"index\":\"palestras\",\"level\":\"warning\",\"msg\":\"empty write-ahead-log found. Did weaviate crash prior to this or the tenant on/loaded from the cloud? Nothing to recover from this file.\",\"path\":\"/Users/dudanogueira/.local/share/weaviate/palestras/et3QcOOVS3xQ/lsm/property_chunk_summary/segment-1729281981333564000\",\"shard\":\"et3QcOOVS3xQ\",\"time\":\"2024-10-21T10:17:50-03:00\"}\n",
      "{\"action\":\"lsm_recover_from_active_wal\",\"build_git_commit\":\"fdb81e790\",\"build_go_version\":\"go1.23.2\",\"build_image_tag\":\"localhost\",\"build_wv_version\":\"1.26.7\",\"class\":\"Palestras\",\"index\":\"palestras\",\"level\":\"warning\",\"msg\":\"empty write-ahead-log found. Did weaviate crash prior to this or the tenant on/loaded from the cloud? Nothing to recover from this file.\",\"path\":\"/Users/dudanogueira/.local/share/weaviate/palestras/et3QcOOVS3xQ/lsm/property__id/segment-1729281981298830000\",\"shard\":\"et3QcOOVS3xQ\",\"time\":\"2024-10-21T10:17:50-03:00\"}\n",
      "{\"action\":\"lsm_recover_from_active_wal\",\"build_git_commit\":\"fdb81e790\",\"build_go_version\":\"go1.23.2\",\"build_image_tag\":\"localhost\",\"build_wv_version\":\"1.26.7\",\"class\":\"Palestras\",\"index\":\"palestras\",\"level\":\"warning\",\"msg\":\"empty write-ahead-log found. Did weaviate crash prior to this or the tenant on/loaded from the cloud? Nothing to recover from this file.\",\"path\":\"/Users/dudanogueira/.local/share/weaviate/palestras/et3QcOOVS3xQ/lsm/property__id/segment-1729453160787723000\",\"shard\":\"et3QcOOVS3xQ\",\"time\":\"2024-10-21T10:17:50-03:00\"}\n",
      "{\"action\":\"lsm_recover_from_active_wal\",\"build_git_commit\":\"fdb81e790\",\"build_go_version\":\"go1.23.2\",\"build_image_tag\":\"localhost\",\"build_wv_version\":\"1.26.7\",\"class\":\"Palestras\",\"index\":\"palestras\",\"level\":\"warning\",\"msg\":\"empty write-ahead-log found. Did weaviate crash prior to this or the tenant on/loaded from the cloud? Nothing to recover from this file.\",\"path\":\"/Users/dudanogueira/.local/share/weaviate/palestras/et3QcOOVS3xQ/lsm/property_chunk_summary/segment-1729453160794667000\",\"shard\":\"et3QcOOVS3xQ\",\"time\":\"2024-10-21T10:17:50-03:00\"}\n",
      "{\"action\":\"lsm_recover_from_active_wal\",\"build_git_commit\":\"fdb81e790\",\"build_go_version\":\"go1.23.2\",\"build_image_tag\":\"localhost\",\"build_wv_version\":\"1.26.7\",\"class\":\"Palestras\",\"index\":\"palestras\",\"level\":\"warning\",\"msg\":\"empty write-ahead-log found. Did weaviate crash prior to this or the tenant on/loaded from the cloud? Nothing to recover from this file.\",\"path\":\"/Users/dudanogueira/.local/share/weaviate/palestras/et3QcOOVS3xQ/lsm/property__id/segment-1729456496440838000\",\"shard\":\"et3QcOOVS3xQ\",\"time\":\"2024-10-21T10:17:50-03:00\"}\n",
      "{\"action\":\"lsm_recover_from_active_wal\",\"build_git_commit\":\"fdb81e790\",\"build_go_version\":\"go1.23.2\",\"build_image_tag\":\"localhost\",\"build_wv_version\":\"1.26.7\",\"class\":\"Palestras\",\"index\":\"palestras\",\"level\":\"warning\",\"msg\":\"empty write-ahead-log found. Did weaviate crash prior to this or the tenant on/loaded from the cloud? Nothing to recover from this file.\",\"path\":\"/Users/dudanogueira/.local/share/weaviate/palestras/et3QcOOVS3xQ/lsm/property_chunk_summary/segment-1729456496423856000\",\"shard\":\"et3QcOOVS3xQ\",\"time\":\"2024-10-21T10:17:50-03:00\"}\n",
      "{\"action\":\"lsm_recover_from_active_wal\",\"build_git_commit\":\"fdb81e790\",\"build_go_version\":\"go1.23.2\",\"build_image_tag\":\"localhost\",\"build_wv_version\":\"1.26.7\",\"class\":\"Palestras\",\"index\":\"palestras\",\"level\":\"warning\",\"msg\":\"empty write-ahead-log found. Did weaviate crash prior to this or the tenant on/loaded from the cloud? Nothing to recover from this file.\",\"path\":\"/Users/dudanogueira/.local/share/weaviate/palestras/et3QcOOVS3xQ/lsm/property__id/segment-1729515613655261000\",\"shard\":\"et3QcOOVS3xQ\",\"time\":\"2024-10-21T10:17:50-03:00\"}\n",
      "{\"action\":\"lsm_recover_from_active_wal\",\"build_git_commit\":\"fdb81e790\",\"build_go_version\":\"go1.23.2\",\"build_image_tag\":\"localhost\",\"build_wv_version\":\"1.26.7\",\"class\":\"Palestras\",\"index\":\"palestras\",\"level\":\"warning\",\"msg\":\"empty write-ahead-log found. Did weaviate crash prior to this or the tenant on/loaded from the cloud? Nothing to recover from this file.\",\"path\":\"/Users/dudanogueira/.local/share/weaviate/palestras/et3QcOOVS3xQ/lsm/property_chunk_summary/segment-1729515613655256000\",\"shard\":\"et3QcOOVS3xQ\",\"time\":\"2024-10-21T10:17:50-03:00\"}\n",
      "{\"action\":\"lsm_recover_from_active_wal\",\"build_git_commit\":\"fdb81e790\",\"build_go_version\":\"go1.23.2\",\"build_image_tag\":\"localhost\",\"build_wv_version\":\"1.26.7\",\"class\":\"Palestras\",\"index\":\"palestras\",\"level\":\"warning\",\"msg\":\"empty write-ahead-log found. Did weaviate crash prior to this or the tenant on/loaded from the cloud? Nothing to recover from this file.\",\"path\":\"/Users/dudanogueira/.local/share/weaviate/palestras/et3QcOOVS3xQ/lsm/objects/segment-1729281981312445000\",\"shard\":\"et3QcOOVS3xQ\",\"time\":\"2024-10-21T10:17:50-03:00\"}\n",
      "{\"action\":\"lsm_recover_from_active_wal\",\"build_git_commit\":\"fdb81e790\",\"build_go_version\":\"go1.23.2\",\"build_image_tag\":\"localhost\",\"build_wv_version\":\"1.26.7\",\"class\":\"Palestras\",\"index\":\"palestras\",\"level\":\"warning\",\"msg\":\"empty write-ahead-log found. Did weaviate crash prior to this or the tenant on/loaded from the cloud? Nothing to recover from this file.\",\"path\":\"/Users/dudanogueira/.local/share/weaviate/palestras/et3QcOOVS3xQ/lsm/objects/segment-1729453160794668000\",\"shard\":\"et3QcOOVS3xQ\",\"time\":\"2024-10-21T10:17:50-03:00\"}\n",
      "{\"action\":\"lsm_recover_from_active_wal\",\"build_git_commit\":\"fdb81e790\",\"build_go_version\":\"go1.23.2\",\"build_image_tag\":\"localhost\",\"build_wv_version\":\"1.26.7\",\"class\":\"Palestras\",\"index\":\"palestras\",\"level\":\"warning\",\"msg\":\"empty write-ahead-log found. Did weaviate crash prior to this or the tenant on/loaded from the cloud? Nothing to recover from this file.\",\"path\":\"/Users/dudanogueira/.local/share/weaviate/palestras/et3QcOOVS3xQ/lsm/property_questions/segment-1729456496504472000\",\"shard\":\"et3QcOOVS3xQ\",\"time\":\"2024-10-21T10:17:50-03:00\"}\n",
      "{\"action\":\"lsm_recover_from_active_wal\",\"build_git_commit\":\"fdb81e790\",\"build_go_version\":\"go1.23.2\",\"build_image_tag\":\"localhost\",\"build_wv_version\":\"1.26.7\",\"class\":\"Palestras\",\"index\":\"palestras\",\"level\":\"warning\",\"msg\":\"empty write-ahead-log found. Did weaviate crash prior to this or the tenant on/loaded from the cloud? Nothing to recover from this file.\",\"path\":\"/Users/dudanogueira/.local/share/weaviate/palestras/et3QcOOVS3xQ/lsm/property_content/segment-1729281981287235000\",\"shard\":\"et3QcOOVS3xQ\",\"time\":\"2024-10-21T10:17:50-03:00\"}\n",
      "{\"action\":\"lsm_recover_from_active_wal\",\"build_git_commit\":\"fdb81e790\",\"build_go_version\":\"go1.23.2\",\"build_image_tag\":\"localhost\",\"build_wv_version\":\"1.26.7\",\"class\":\"Palestras\",\"index\":\"palestras\",\"level\":\"warning\",\"msg\":\"empty write-ahead-log found. Did weaviate crash prior to this or the tenant on/loaded from the cloud? Nothing to recover from this file.\",\"path\":\"/Users/dudanogueira/.local/share/weaviate/palestras/et3QcOOVS3xQ/lsm/objects/segment-1729456496452310000\",\"shard\":\"et3QcOOVS3xQ\",\"time\":\"2024-10-21T10:17:50-03:00\"}\n",
      "{\"action\":\"lsm_recover_from_active_wal\",\"build_git_commit\":\"fdb81e790\",\"build_go_version\":\"go1.23.2\",\"build_image_tag\":\"localhost\",\"build_wv_version\":\"1.26.7\",\"class\":\"Palestras\",\"index\":\"palestras\",\"level\":\"warning\",\"msg\":\"empty write-ahead-log found. Did weaviate crash prior to this or the tenant on/loaded from the cloud? Nothing to recover from this file.\",\"path\":\"/Users/dudanogueira/.local/share/weaviate/palestras/et3QcOOVS3xQ/lsm/property_questions/segment-1729515613655237000\",\"shard\":\"et3QcOOVS3xQ\",\"time\":\"2024-10-21T10:17:50-03:00\"}\n",
      "{\"action\":\"lsm_recover_from_active_wal\",\"build_git_commit\":\"fdb81e790\",\"build_go_version\":\"go1.23.2\",\"build_image_tag\":\"localhost\",\"build_wv_version\":\"1.26.7\",\"class\":\"Palestras\",\"index\":\"palestras\",\"level\":\"warning\",\"msg\":\"empty write-ahead-log found. Did weaviate crash prior to this or the tenant on/loaded from the cloud? Nothing to recover from this file.\",\"path\":\"/Users/dudanogueira/.local/share/weaviate/palestras/et3QcOOVS3xQ/lsm/property_content/segment-1729453160794673000\",\"shard\":\"et3QcOOVS3xQ\",\"time\":\"2024-10-21T10:17:50-03:00\"}\n",
      "{\"action\":\"lsm_recover_from_active_wal\",\"build_git_commit\":\"fdb81e790\",\"build_go_version\":\"go1.23.2\",\"build_image_tag\":\"localhost\",\"build_wv_version\":\"1.26.7\",\"class\":\"Palestras\",\"index\":\"palestras\",\"level\":\"warning\",\"msg\":\"empty write-ahead-log found. Did weaviate crash prior to this or the tenant on/loaded from the cloud? Nothing to recover from this file.\",\"path\":\"/Users/dudanogueira/.local/share/weaviate/palestras/et3QcOOVS3xQ/lsm/objects/segment-1729515613655266000\",\"shard\":\"et3QcOOVS3xQ\",\"time\":\"2024-10-21T10:17:50-03:00\"}\n",
      "{\"action\":\"lsm_recover_from_active_wal\",\"build_git_commit\":\"fdb81e790\",\"build_go_version\":\"go1.23.2\",\"build_image_tag\":\"localhost\",\"build_wv_version\":\"1.26.7\",\"class\":\"Palestras\",\"index\":\"palestras\",\"level\":\"warning\",\"msg\":\"empty write-ahead-log found. Did weaviate crash prior to this or the tenant on/loaded from the cloud? Nothing to recover from this file.\",\"path\":\"/Users/dudanogueira/.local/share/weaviate/palestras/et3QcOOVS3xQ/lsm/property_content/segment-1729456496463819000\",\"shard\":\"et3QcOOVS3xQ\",\"time\":\"2024-10-21T10:17:50-03:00\"}\n",
      "{\"action\":\"lsm_recover_from_active_wal\",\"build_git_commit\":\"fdb81e790\",\"build_go_version\":\"go1.23.2\",\"build_image_tag\":\"localhost\",\"build_wv_version\":\"1.26.7\",\"class\":\"Palestras\",\"index\":\"palestras\",\"level\":\"warning\",\"msg\":\"empty write-ahead-log found. Did weaviate crash prior to this or the tenant on/loaded from the cloud? Nothing to recover from this file.\",\"path\":\"/Users/dudanogueira/.local/share/weaviate/palestras/et3QcOOVS3xQ/lsm/property_content/segment-1729515613655256000\",\"shard\":\"et3QcOOVS3xQ\",\"time\":\"2024-10-21T10:17:50-03:00\"}\n",
      "{\"action\":\"lsm_recover_from_active_wal\",\"build_git_commit\":\"fdb81e790\",\"build_go_version\":\"go1.23.2\",\"build_image_tag\":\"localhost\",\"build_wv_version\":\"1.26.7\",\"class\":\"Palestras\",\"index\":\"palestras\",\"level\":\"warning\",\"msg\":\"empty write-ahead-log found. Did weaviate crash prior to this or the tenant on/loaded from the cloud? Nothing to recover from this file.\",\"path\":\"/Users/dudanogueira/.local/share/weaviate/palestras/et3QcOOVS3xQ/lsm/property_questions_searchable/segment-1729456496516829000\",\"shard\":\"et3QcOOVS3xQ\",\"time\":\"2024-10-21T10:17:50-03:00\"}\n",
      "{\"action\":\"lsm_recover_from_active_wal\",\"build_git_commit\":\"fdb81e790\",\"build_go_version\":\"go1.23.2\",\"build_image_tag\":\"localhost\",\"build_wv_version\":\"1.26.7\",\"class\":\"Palestras\",\"index\":\"palestras\",\"level\":\"warning\",\"msg\":\"empty write-ahead-log found. Did weaviate crash prior to this or the tenant on/loaded from the cloud? Nothing to recover from this file.\",\"path\":\"/Users/dudanogueira/.local/share/weaviate/palestras/et3QcOOVS3xQ/lsm/property_questions_searchable/segment-1729515613660257000\",\"shard\":\"et3QcOOVS3xQ\",\"time\":\"2024-10-21T10:17:50-03:00\"}\n",
      "{\"action\":\"lsm_recover_from_active_wal\",\"build_git_commit\":\"fdb81e790\",\"build_go_version\":\"go1.23.2\",\"build_image_tag\":\"localhost\",\"build_wv_version\":\"1.26.7\",\"class\":\"Palestras\",\"index\":\"palestras\",\"level\":\"warning\",\"msg\":\"empty write-ahead-log found. Did weaviate crash prior to this or the tenant on/loaded from the cloud? Nothing to recover from this file.\",\"path\":\"/Users/dudanogueira/.local/share/weaviate/palestras/et3QcOOVS3xQ/lsm/property_chunk_summary_searchable/segment-1729281981343198000\",\"shard\":\"et3QcOOVS3xQ\",\"time\":\"2024-10-21T10:17:50-03:00\"}\n",
      "{\"action\":\"lsm_recover_from_active_wal\",\"build_git_commit\":\"fdb81e790\",\"build_go_version\":\"go1.23.2\",\"build_image_tag\":\"localhost\",\"build_wv_version\":\"1.26.7\",\"class\":\"Palestras\",\"index\":\"palestras\",\"level\":\"warning\",\"msg\":\"empty write-ahead-log found. Did weaviate crash prior to this or the tenant on/loaded from the cloud? Nothing to recover from this file.\",\"path\":\"/Users/dudanogueira/.local/share/weaviate/palestras/et3QcOOVS3xQ/lsm/property_chunk_summary_searchable/segment-1729453160800613000\",\"shard\":\"et3QcOOVS3xQ\",\"time\":\"2024-10-21T10:17:50-03:00\"}\n",
      "{\"action\":\"lsm_recover_from_active_wal\",\"build_git_commit\":\"fdb81e790\",\"build_go_version\":\"go1.23.2\",\"build_image_tag\":\"localhost\",\"build_wv_version\":\"1.26.7\",\"class\":\"Palestras\",\"index\":\"palestras\",\"level\":\"warning\",\"msg\":\"empty write-ahead-log found. Did weaviate crash prior to this or the tenant on/loaded from the cloud? Nothing to recover from this file.\",\"path\":\"/Users/dudanogueira/.local/share/weaviate/palestras/et3QcOOVS3xQ/lsm/property_chunk_summary_searchable/segment-1729456496479248000\",\"shard\":\"et3QcOOVS3xQ\",\"time\":\"2024-10-21T10:17:50-03:00\"}\n",
      "{\"action\":\"lsm_recover_from_active_wal\",\"build_git_commit\":\"fdb81e790\",\"build_go_version\":\"go1.23.2\",\"build_image_tag\":\"localhost\",\"build_wv_version\":\"1.26.7\",\"class\":\"Palestras\",\"index\":\"palestras\",\"level\":\"warning\",\"msg\":\"empty write-ahead-log found. Did weaviate crash prior to this or the tenant on/loaded from the cloud? Nothing to recover from this file.\",\"path\":\"/Users/dudanogueira/.local/share/weaviate/palestras/et3QcOOVS3xQ/lsm/property_chunk_summary_searchable/segment-1729515613660279000\",\"shard\":\"et3QcOOVS3xQ\",\"time\":\"2024-10-21T10:17:50-03:00\"}\n",
      "{\"action\":\"lsm_recover_from_active_wal\",\"build_git_commit\":\"fdb81e790\",\"build_go_version\":\"go1.23.2\",\"build_image_tag\":\"localhost\",\"build_wv_version\":\"1.26.7\",\"class\":\"Palestras\",\"index\":\"palestras\",\"level\":\"warning\",\"msg\":\"empty write-ahead-log found. Did weaviate crash prior to this or the tenant on/loaded from the cloud? Nothing to recover from this file.\",\"path\":\"/Users/dudanogueira/.local/share/weaviate/palestras/et3QcOOVS3xQ/lsm/property_content_searchable/segment-1729281981323619000\",\"shard\":\"et3QcOOVS3xQ\",\"time\":\"2024-10-21T10:17:50-03:00\"}\n",
      "{\"action\":\"lsm_recover_from_active_wal\",\"build_git_commit\":\"fdb81e790\",\"build_go_version\":\"go1.23.2\",\"build_image_tag\":\"localhost\",\"build_wv_version\":\"1.26.7\",\"class\":\"Palestras\",\"index\":\"palestras\",\"level\":\"warning\",\"msg\":\"empty write-ahead-log found. Did weaviate crash prior to this or the tenant on/loaded from the cloud? Nothing to recover from this file.\",\"path\":\"/Users/dudanogueira/.local/share/weaviate/palestras/et3QcOOVS3xQ/lsm/property_content_searchable/segment-1729453160800616000\",\"shard\":\"et3QcOOVS3xQ\",\"time\":\"2024-10-21T10:17:50-03:00\"}\n",
      "{\"action\":\"lsm_recover_from_active_wal\",\"build_git_commit\":\"fdb81e790\",\"build_go_version\":\"go1.23.2\",\"build_image_tag\":\"localhost\",\"build_wv_version\":\"1.26.7\",\"class\":\"Palestras\",\"index\":\"palestras\",\"level\":\"warning\",\"msg\":\"empty write-ahead-log found. Did weaviate crash prior to this or the tenant on/loaded from the cloud? Nothing to recover from this file.\",\"path\":\"/Users/dudanogueira/.local/share/weaviate/palestras/et3QcOOVS3xQ/lsm/property_content_searchable/segment-1729456496491074000\",\"shard\":\"et3QcOOVS3xQ\",\"time\":\"2024-10-21T10:17:50-03:00\"}\n",
      "{\"action\":\"lsm_recover_from_active_wal\",\"build_git_commit\":\"fdb81e790\",\"build_go_version\":\"go1.23.2\",\"build_image_tag\":\"localhost\",\"build_wv_version\":\"1.26.7\",\"class\":\"Palestras\",\"index\":\"palestras\",\"level\":\"warning\",\"msg\":\"empty write-ahead-log found. Did weaviate crash prior to this or the tenant on/loaded from the cloud? Nothing to recover from this file.\",\"path\":\"/Users/dudanogueira/.local/share/weaviate/palestras/et3QcOOVS3xQ/lsm/property_content_searchable/segment-1729515613660274000\",\"shard\":\"et3QcOOVS3xQ\",\"time\":\"2024-10-21T10:17:50-03:00\"}\n",
      "{\"action\":\"hnsw_prefill_cache_async\",\"build_git_commit\":\"fdb81e790\",\"build_go_version\":\"go1.23.2\",\"build_image_tag\":\"localhost\",\"build_wv_version\":\"1.26.7\",\"level\":\"info\",\"msg\":\"not waiting for vector cache prefill, running in background\",\"time\":\"2024-10-21T10:17:50-03:00\",\"wait_for_cache_prefill\":false}\n",
      "{\"build_git_commit\":\"fdb81e790\",\"build_go_version\":\"go1.23.2\",\"build_image_tag\":\"localhost\",\"build_wv_version\":\"1.26.7\",\"level\":\"info\",\"msg\":\"Completed loading shard palestras_et3QcOOVS3xQ in 26.323875ms\",\"time\":\"2024-10-21T10:17:50-03:00\"}\n",
      "{\"action\":\"hnsw_vector_cache_prefill\",\"build_git_commit\":\"fdb81e790\",\"build_go_version\":\"go1.23.2\",\"build_image_tag\":\"localhost\",\"build_wv_version\":\"1.26.7\",\"count\":3000,\"index_id\":\"main\",\"level\":\"info\",\"limit\":1000000000000,\"msg\":\"prefilled vector cache\",\"time\":\"2024-10-21T10:17:50-03:00\",\"took\":501250}\n",
      "{\"action\":\"telemetry_push\",\"build_git_commit\":\"fdb81e790\",\"build_go_version\":\"go1.23.2\",\"build_image_tag\":\"localhost\",\"build_wv_version\":\"1.26.7\",\"level\":\"info\",\"msg\":\"telemetry started\",\"payload\":\"\\u0026{MachineID:119b550e-c485-46ef-b99e-71974cf6f9e5 Type:INIT Version:1.26.7 NumObjects:0 OS:darwin Arch:arm64 UsedModules:[generative-cohere text2vec-cohere]}\",\"time\":\"2024-10-21T10:17:51-03:00\"}\n",
      "{\"action\":\"hnsw_prefill_cache_async\",\"build_git_commit\":\"fdb81e790\",\"build_go_version\":\"go1.23.2\",\"build_image_tag\":\"localhost\",\"build_wv_version\":\"1.26.7\",\"level\":\"info\",\"msg\":\"not waiting for vector cache prefill, running in background\",\"time\":\"2024-10-21T10:17:51-03:00\",\"wait_for_cache_prefill\":false}\n",
      "{\"build_git_commit\":\"fdb81e790\",\"build_go_version\":\"go1.23.2\",\"build_image_tag\":\"localhost\",\"build_wv_version\":\"1.26.7\",\"level\":\"info\",\"msg\":\"Completed loading shard animais_1CJSI99dKNtr in 3.505333ms\",\"time\":\"2024-10-21T10:17:51-03:00\"}\n",
      "{\"action\":\"hnsw_vector_cache_prefill\",\"build_git_commit\":\"fdb81e790\",\"build_go_version\":\"go1.23.2\",\"build_image_tag\":\"localhost\",\"build_wv_version\":\"1.26.7\",\"count\":3000,\"index_id\":\"main\",\"level\":\"info\",\"limit\":1000000000000,\"msg\":\"prefilled vector cache\",\"time\":\"2024-10-21T10:17:51-03:00\",\"took\":97166}\n"
     ]
    }
   ],
   "source": [
    "# agora vamos salvar os resultados em nosso banco de dados\n",
    "# lembre-se de fechar a conexão no exemplo-basico.ipynb!!!\n",
    "\n",
    "import os\n",
    "import weaviate\n",
    "from weaviate import classes as wvc\n",
    "\n",
    "# aqui vamos usar a versão embedded, para testes/desenvolvimento, que roda direto do cliente\n",
    "# o recomendado para produção é docker ou kubernetes\n",
    "client = weaviate.connect_to_embedded(\n",
    "    version=\"1.26.7\",\n",
    "    headers={\n",
    "        \"X-Cohere-Api-Key\": os.environ.get(\"COHERE_APIKEY\")\n",
    "    }\n",
    ")\n",
    "# vamos mostra a versão do cliente e do servidor\n",
    "print(weaviate.__version__, client.get_meta().get(\"version\"))"
   ]
  },
  {
   "cell_type": "code",
   "execution_count": 26,
   "metadata": {},
   "outputs": [
    {
     "name": "stderr",
     "output_type": "stream",
     "text": [
      "{\"build_git_commit\":\"fdb81e790\",\"build_go_version\":\"go1.23.2\",\"build_image_tag\":\"localhost\",\"build_wv_version\":\"1.26.7\",\"level\":\"warning\",\"msg\":\"prop len tracker file /Users/dudanogueira/.local/share/weaviate/palestras/4fpgJePvTcpZ/proplengths does not exist, creating new tracker\",\"time\":\"2024-10-21T10:18:27-03:00\"}\n",
      "{\"action\":\"hnsw_prefill_cache_async\",\"build_git_commit\":\"fdb81e790\",\"build_go_version\":\"go1.23.2\",\"build_image_tag\":\"localhost\",\"build_wv_version\":\"1.26.7\",\"level\":\"info\",\"msg\":\"not waiting for vector cache prefill, running in background\",\"time\":\"2024-10-21T10:18:27-03:00\",\"wait_for_cache_prefill\":false}\n",
      "{\"build_git_commit\":\"fdb81e790\",\"build_go_version\":\"go1.23.2\",\"build_image_tag\":\"localhost\",\"build_wv_version\":\"1.26.7\",\"level\":\"info\",\"msg\":\"Created shard palestras_4fpgJePvTcpZ in 2.651291ms\",\"time\":\"2024-10-21T10:18:27-03:00\"}\n",
      "{\"action\":\"hnsw_vector_cache_prefill\",\"build_git_commit\":\"fdb81e790\",\"build_go_version\":\"go1.23.2\",\"build_image_tag\":\"localhost\",\"build_wv_version\":\"1.26.7\",\"count\":1000,\"index_id\":\"main\",\"level\":\"info\",\"limit\":1000000000000,\"msg\":\"prefilled vector cache\",\"time\":\"2024-10-21T10:18:27-03:00\",\"took\":72417}\n"
     ]
    }
   ],
   "source": [
    "# vamos garantir que não temos a coleção \"Palestras\"\n",
    "client.collections.delete(\"Palestras\")\n",
    "# vamos criar a coleção de palestras\n",
    "collection = client.collections.create(\n",
    "    name=\"Palestras\",\n",
    "    vectorizer_config=wvc.config.Configure.Vectorizer.text2vec_cohere(),\n",
    "    generative_config=wvc.config.Configure.Generative.cohere(),\n",
    "    properties=[\n",
    "        wvc.config.Property(name=\"content\", data_type=wvc.config.DataType.TEXT),\n",
    "        wvc.config.Property(name=\"chunk_summary\", data_type=wvc.config.DataType.TEXT),\n",
    "    ]\n",
    ")"
   ]
  },
  {
   "cell_type": "code",
   "execution_count": 27,
   "metadata": {},
   "outputs": [
    {
     "name": "stdout",
     "output_type": "stream",
     "text": [
      "{'content': 'TDC SUMMIT IA BRASÍLIA INTELIGÊNCIA ARTIFICIAL,LIDERANÇA TÉCNICA,GESTÃO e VOCÊ! Quando? 23 e 24 de Outubro 2024 09:00 às 19:00 h GMT-3 HÍBRIDO: PRESENCIAL E ONLINE Onde? Centro de Convenções Ulysses Guimarães SDC - Ulysses Guimarães Brasília - DF Mais informações Chamadas Call4Trilhas: 21 de Maio a 24 de Junho Call4Papers: 21 de Maio a 25 de Julho Inscrições: 15 de Julho a 24 de Outubro Voluntários: Pré-inscrições: 01/10/2024 Inscrições Fase 2: até 03 de Outubro Fase 3: 04 a 24 de Outubro Inscrições Individuais Inscrições Corporativas Inscrições Gratuitas Qual Ticket escolher?', 'chunk_summary': 'Informações gerais sobre o TDC Summit IA Brasília, incluindo datas, local, formato do evento, e detalhes sobre inscrições e chamadas para trilhas e papers.'}\n",
      "{'content': 'O maior evento de tecnologia do BRASIL está chegando a Brasilia com uma edição especial dedicada à Inteligência Artificial. Serão três palcos repletos de palestras técnicas, painéis de discussão, cases de sucesso e sessões focadas em processos e desenvolvimento. Além disso, teremos workshops práticos para quem deseja aprender de forma prática. O evento também trará o Hub de Mentoria, conectando mentores a participantes em busca de orientação, e o Community Lounge, promovendo rodas de conversa que irão conectar profissionais de diversas áreas. Garanta sua participação e inscreva-se agora mesmo!', 'chunk_summary': 'Descrição do evento TDC Summit IA Brasília, destacando a programação com palestras, painéis, workshops, e espaços de mentoria e networking.'}\n",
      "{'content': '23/10/2024 Palco 1 Abertura Yara Mascarenhas Hornos (TDC) Bruno Souza (Code4.Life) 09:00 -09:30 Keynote Plano Brasileiro de Inteligência Artificial Cristina Shimoda (Ministério da Ciência, Tecnologia e Inovação) 09:40 -10:15 Oportunidades a partir do Plano Brasileiro de Inteligência Artificial Cristina Shimoda Ministério da Ciência, Tecnologia e Inovação', 'chunk_summary': 'Abertura do evento no Palco 1 com Yara Mascarenhas Hornos e Bruno Souza, seguida de keynote sobre o Plano Brasileiro de Inteligência Artificial por Cristina Shimoda.'}\n",
      "{'content': 'Diferenças entre modelos de AI e programação tradicional Ivan Viragine (Grafiniti) 11:10 -11:45 Quer entender as diferenças cruciais entre desenvolvimento de software tradicional e o emergente desenvolvimento de IA? Nesta palestra, vamos explorar como cada abordagem lida com a natureza dos outputs, atualizações, dependência de dados, e muito mais. Descubra os benefícios, desafios e considerações éticas de cada método, e veja como a IA pode transformar tarefas complexas e automatizar processos de maneira eficiente.', 'chunk_summary': 'Palestra de Ivan Viragine sobre as diferenças entre modelos de IA e programação tradicional, abordando benefícios, desafios e considerações éticas.'}\n",
      "{'content': 'Como integrar uma arquitetura moderna de dados a IA Generativa e Gen BI Erika Nagamine (AWS - Amazon Web Services) 13:30 -14:05 Nessa sessão vamos explorar as diferentes arquiteturas e a IA Generativa para que você possa integrar dados de diferentes fontes e diferentes tipos numa visão analitica em 360. Vamos mostrar uma aplicação na prática e você poderá checar como integrar seus dados com a IA Generativa.', 'chunk_summary': 'Erika Nagamine discute a integração de arquiteturas modernas de dados com IA Generativa e Gen BI, apresentando aplicações práticas.'}\n",
      "{'content': 'Para além do RAG: Generative Feedback Loops Duda Nogueira (Weaviate) 14:15 -14:50 Enquanto ainda engatinhamos (a passos largos) no uso de RAG (Retrieval Augmented Generation), já começamos a olhar para outras aplicações, como por exemplo Generative Feedback Loops. Nessa apresentação, iremos mostrar alguns usos de caso e como essa nova técnica poderá trazer funcionalidades e ferramentas interessantes para a suas aplicações.', 'chunk_summary': 'Duda Nogueira apresenta sobre Generative Feedback Loops, explorando casos de uso e novas funcionalidades para aplicações.'}\n",
      "{'content': 'Kubeflow: Machine Learning em escala Marcio Junior Vieira (Ambiente Livre) 15:40 -16:15 Serão apresentadas algumas das funcionalidades do Kubeflow, uma recente plataforma totalmente open-source de MLOps, instalado sobre a infraestrutura de um cluster Kubernetes (on-premise ou cloud), que busca auxiliar no gerenciamento e escalabilidade das cargas de trabalho das mais diversas tarefas de aprendizagem de máquina atualmente.', 'chunk_summary': 'Marcio Junior Vieira discute as funcionalidades do Kubeflow, uma plataforma open-source de MLOps para gerenciamento e escalabilidade de tarefas de machine learning.'}\n",
      "{'content': 'Superfice de Ataque: Como minimizar riscos em um Mundo Digital. Paulo Lamellas (TechSecurity Consultoria) 16:20 -16:55 Na era atual, ataques cibernéticos são uma grande preocupação para organizações de todos os tamanhos. Uma das maneiras mais eficazes de mitigar esses riscos é gerenciando a superfície de ataque. Esta apresentação explora a importância de gerenciar a superfície de ataque e as estratégias que podemos usar para reduzir o risco de ciberataques.', 'chunk_summary': 'Paulo Lamellas aborda a gestão da superfície de ataque para minimizar riscos cibernéticos, discutindo estratégias de segurança.'}\n",
      "{'content': 'Aplicando IA Generativa na Jornada de Qualidade Stênio Pereira Viveiros (Keeggo) 17:00 -17:35 Aborda como a inteligência artificial generativa está revolucionando a garantia de qualidade no desenvolvimento de software. Serão exploradas técnicas de IA que automatizam a geração de casos de teste, detectam bugs de forma proativa e simulam cenários complexos para avaliar a robustez e segurança do software.', 'chunk_summary': 'Stênio Pereira Viveiros explora o uso de IA generativa na garantia de qualidade de software, destacando automação de testes e detecção de bugs.'}\n",
      "{'content': 'Implemente Soluções com Agentes de IA, reduza custos operacionais e melhore a qualidade dos processos Danilo de Sousa (Gran Tecnologia e Educação) 17:45 -18:20 Nesta palestra, Danilo de Sousa compartilha insights sobre como agentes de IA podem revolucionar a automação de processos empresariais, explorando tipos de agentes, benefícios e exemplos práticos.', 'chunk_summary': 'Danilo de Sousa discute a implementação de agentes de IA para automação de processos, destacando benefícios e exemplos práticos.'}\n"
     ]
    }
   ],
   "source": [
    "for data_row in chunks_with_summaries:\n",
    "    print({\"content\": str(data_row.chunk), \"chunk_summary\": str(data_row.summary)})"
   ]
  },
  {
   "cell_type": "code",
   "execution_count": 28,
   "metadata": {},
   "outputs": [
    {
     "name": "stdout",
     "output_type": "stream",
     "text": [
      "Batch import executed without errors\n"
     ]
    }
   ],
   "source": [
    "# agora vamos importar todos os nossos chunks semânticos\n",
    "\n",
    "with collection.batch.dynamic() as batch:\n",
    "    for data_row in chunks_with_summaries:\n",
    "        batch.add_object(\n",
    "            properties={\n",
    "                \"content\": data_row.chunk, \n",
    "                \"chunk_summary\": data_row.summary\n",
    "            }\n",
    "        )\n",
    "if collection.batch.failed_objects:\n",
    "    print(collection.batch.failed_objects)\n",
    "else:\n",
    "    print(\"Batch import executed without errors\")"
   ]
  },
  {
   "cell_type": "code",
   "execution_count": 29,
   "metadata": {},
   "outputs": [
    {
     "data": {
      "text/plain": [
       "AggregateReturn(properties={}, total_count=10)"
      ]
     },
     "execution_count": 29,
     "metadata": {},
     "output_type": "execute_result"
    }
   ],
   "source": [
    "collection.aggregate.over_all()"
   ]
  },
  {
   "cell_type": "code",
   "execution_count": 30,
   "metadata": {},
   "outputs": [
    {
     "name": "stdout",
     "output_type": "stream",
     "text": [
      "####\n",
      "{'content': 'Superfice de Ataque: Como minimizar riscos em um Mundo Digital. Paulo Lamellas (TechSecurity Consultoria) 16:20 -16:55 Na era atual, ataques cibernéticos são uma grande preocupação para organizações de todos os tamanhos. Uma das maneiras mais eficazes de mitigar esses riscos é gerenciando a superfície de ataque. Esta apresentação explora a importância de gerenciar a superfície de ataque e as estratégias que podemos usar para reduzir o risco de ciberataques.', 'chunk_summary': 'Paulo Lamellas aborda a gestão da superfície de ataque para minimizar riscos cibernéticos, discutindo estratégias de segurança.'}\n",
      "####\n",
      "{'content': '23/10/2024 Palco 1 Abertura Yara Mascarenhas Hornos (TDC) Bruno Souza (Code4.Life) 09:00 -09:30 Keynote Plano Brasileiro de Inteligência Artificial Cristina Shimoda (Ministério da Ciência, Tecnologia e Inovação) 09:40 -10:15 Oportunidades a partir do Plano Brasileiro de Inteligência Artificial Cristina Shimoda Ministério da Ciência, Tecnologia e Inovação', 'chunk_summary': 'Abertura do evento no Palco 1 com Yara Mascarenhas Hornos e Bruno Souza, seguida de keynote sobre o Plano Brasileiro de Inteligência Artificial por Cristina Shimoda.'}\n"
     ]
    }
   ],
   "source": [
    "for obj in collection.query.near_text(\"Palestra sobre proteção e invasão\", auto_limit=1).objects:\n",
    "    print(\"####\")\n",
    "    print(obj.properties)"
   ]
  },
  {
   "cell_type": "code",
   "execution_count": 31,
   "metadata": {},
   "outputs": [
    {
     "name": "stderr",
     "output_type": "stream",
     "text": [
      "{\"action\":\"restapi_management\",\"build_git_commit\":\"fdb81e790\",\"build_go_version\":\"go1.23.2\",\"build_image_tag\":\"localhost\",\"build_wv_version\":\"1.26.7\",\"docker_image_tag\":\"localhost\",\"level\":\"info\",\"msg\":\"Shutting down... \",\"time\":\"2024-10-21T10:18:53-03:00\"}\n",
      "{\"action\":\"restapi_management\",\"build_git_commit\":\"fdb81e790\",\"build_go_version\":\"go1.23.2\",\"build_image_tag\":\"localhost\",\"build_wv_version\":\"1.26.7\",\"docker_image_tag\":\"localhost\",\"level\":\"info\",\"msg\":\"Stopped serving weaviate at http://127.0.0.1:8079\",\"time\":\"2024-10-21T10:18:53-03:00\"}\n",
      "{\"action\":\"telemetry_push\",\"build_git_commit\":\"fdb81e790\",\"build_go_version\":\"go1.23.2\",\"build_image_tag\":\"localhost\",\"build_wv_version\":\"1.26.7\",\"level\":\"info\",\"msg\":\"telemetry terminated\",\"payload\":\"\\u0026{MachineID:119b550e-c485-46ef-b99e-71974cf6f9e5 Type:TERMINATE Version:1.26.7 NumObjects:4 OS:darwin Arch:arm64 UsedModules:[generative-cohere text2vec-cohere]}\",\"time\":\"2024-10-21T10:18:53-03:00\"}\n",
      "{\"build_git_commit\":\"fdb81e790\",\"build_go_version\":\"go1.23.2\",\"build_image_tag\":\"localhost\",\"build_wv_version\":\"1.26.7\",\"level\":\"info\",\"msg\":\"closing raft FSM store ...\",\"time\":\"2024-10-21T10:18:53-03:00\"}\n",
      "{\"build_git_commit\":\"fdb81e790\",\"build_go_version\":\"go1.23.2\",\"build_image_tag\":\"localhost\",\"build_wv_version\":\"1.26.7\",\"level\":\"info\",\"msg\":\"shutting down raft sub-system ...\",\"time\":\"2024-10-21T10:18:53-03:00\"}\n",
      "{\"build_git_commit\":\"fdb81e790\",\"build_go_version\":\"go1.23.2\",\"build_image_tag\":\"localhost\",\"build_wv_version\":\"1.26.7\",\"level\":\"info\",\"msg\":\"transferring leadership to another server\",\"time\":\"2024-10-21T10:18:53-03:00\"}\n",
      "{\"build_git_commit\":\"fdb81e790\",\"build_go_version\":\"go1.23.2\",\"build_image_tag\":\"localhost\",\"build_wv_version\":\"1.26.7\",\"error\":\"cannot find peer\",\"level\":\"error\",\"msg\":\"transferring leadership\",\"time\":\"2024-10-21T10:18:53-03:00\"}\n",
      "{\"build_git_commit\":\"fdb81e790\",\"build_go_version\":\"go1.23.2\",\"build_image_tag\":\"localhost\",\"build_wv_version\":\"1.26.7\",\"level\":\"info\",\"msg\":\"closing raft-net ...\",\"time\":\"2024-10-21T10:18:53-03:00\"}\n",
      "{\"build_git_commit\":\"fdb81e790\",\"build_go_version\":\"go1.23.2\",\"build_image_tag\":\"localhost\",\"build_wv_version\":\"1.26.7\",\"level\":\"info\",\"msg\":\"closing log store ...\",\"time\":\"2024-10-21T10:18:53-03:00\"}\n",
      "{\"build_git_commit\":\"fdb81e790\",\"build_go_version\":\"go1.23.2\",\"build_image_tag\":\"localhost\",\"build_wv_version\":\"1.26.7\",\"level\":\"info\",\"msg\":\"closing data store ...\",\"time\":\"2024-10-21T10:18:53-03:00\"}\n",
      "{\"build_git_commit\":\"fdb81e790\",\"build_go_version\":\"go1.23.2\",\"build_image_tag\":\"localhost\",\"build_wv_version\":\"1.26.7\",\"level\":\"info\",\"msg\":\"closing loaded database ...\",\"time\":\"2024-10-21T10:18:53-03:00\"}\n",
      "{\"build_git_commit\":\"fdb81e790\",\"build_go_version\":\"go1.23.2\",\"build_image_tag\":\"localhost\",\"build_wv_version\":\"1.26.7\",\"level\":\"info\",\"msg\":\"closing raft-rpc client ...\",\"time\":\"2024-10-21T10:18:54-03:00\"}\n",
      "{\"build_git_commit\":\"fdb81e790\",\"build_go_version\":\"go1.23.2\",\"build_image_tag\":\"localhost\",\"build_wv_version\":\"1.26.7\",\"level\":\"info\",\"msg\":\"closing raft-rpc server ...\",\"time\":\"2024-10-21T10:18:54-03:00\"}\n"
     ]
    }
   ],
   "source": [
    "# vamos fechar o cliente\n",
    "client.close()"
   ]
  }
 ],
 "metadata": {
  "kernelspec": {
   "display_name": ".venv",
   "language": "python",
   "name": "python3"
  },
  "language_info": {
   "codemirror_mode": {
    "name": "ipython",
    "version": 3
   },
   "file_extension": ".py",
   "mimetype": "text/x-python",
   "name": "python",
   "nbconvert_exporter": "python",
   "pygments_lexer": "ipython3",
   "version": "3.12.5"
  }
 },
 "nbformat": 4,
 "nbformat_minor": 2
}
